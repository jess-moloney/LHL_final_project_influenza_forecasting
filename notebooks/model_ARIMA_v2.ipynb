{
 "cells": [
  {
   "cell_type": "markdown",
   "metadata": {},
   "source": [
    "# Imports"
   ]
  },
  {
   "cell_type": "code",
   "execution_count": 2,
   "metadata": {},
   "outputs": [],
   "source": [
    "import pickle\n",
    "import pandas as pd\n",
    "import numpy as np\n",
    "from numpy import mean\n",
    "\n",
    "# identification of ARIMA parameters\n",
    "from statsmodels.tsa.stattools import acf, pacf # choose p and q\n",
    "\n",
    "# plotting\n",
    "import matplotlib.pyplot as plt\n",
    "import seaborn as sns\n",
    "sns.set()\n",
    "plt.rcParams['figure.figsize'] = [20, 10]\n",
    "\n",
    "# custom functions\n",
    "import sys\n",
    "sys.path.append(r\"C:\\Users\\User\\Documents\\projects\\LHL_final_project_influenza_forecasting\\src\")\n",
    "from evaluate_model import *\n",
    "from ADF import *\n",
    "from arima_model import *"
   ]
  },
  {
   "cell_type": "markdown",
   "metadata": {},
   "source": [
    "# Datasets"
   ]
  },
  {
   "cell_type": "code",
   "execution_count": 15,
   "metadata": {},
   "outputs": [],
   "source": [
    "df_flu_pre_COVID = pickle.load(open(r\"..\\data\\flu_cases\\df_flu_pre_COVID_total.pkl\", \"rb\" ))"
   ]
  },
  {
   "cell_type": "code",
   "execution_count": 18,
   "metadata": {},
   "outputs": [],
   "source": [
    "df_flu_pre_COVID = df_flu_pre_COVID[-183:]"
   ]
  },
  {
   "cell_type": "code",
   "execution_count": 19,
   "metadata": {},
   "outputs": [
    {
     "data": {
      "text/html": [
       "<div>\n",
       "<style scoped>\n",
       "    .dataframe tbody tr th:only-of-type {\n",
       "        vertical-align: middle;\n",
       "    }\n",
       "\n",
       "    .dataframe tbody tr th {\n",
       "        vertical-align: top;\n",
       "    }\n",
       "\n",
       "    .dataframe thead th {\n",
       "        text-align: right;\n",
       "    }\n",
       "</style>\n",
       "<table border=\"1\" class=\"dataframe\">\n",
       "  <thead>\n",
       "    <tr style=\"text-align: right;\">\n",
       "      <th></th>\n",
       "      <th>Total Cases</th>\n",
       "    </tr>\n",
       "    <tr>\n",
       "      <th>Week Ending</th>\n",
       "      <th></th>\n",
       "    </tr>\n",
       "  </thead>\n",
       "  <tbody>\n",
       "    <tr>\n",
       "      <th>2016-09-03</th>\n",
       "      <td>2.0</td>\n",
       "    </tr>\n",
       "    <tr>\n",
       "      <th>2016-09-10</th>\n",
       "      <td>18.0</td>\n",
       "    </tr>\n",
       "    <tr>\n",
       "      <th>2016-09-17</th>\n",
       "      <td>23.0</td>\n",
       "    </tr>\n",
       "    <tr>\n",
       "      <th>2016-09-24</th>\n",
       "      <td>44.0</td>\n",
       "    </tr>\n",
       "    <tr>\n",
       "      <th>2016-10-01</th>\n",
       "      <td>63.0</td>\n",
       "    </tr>\n",
       "    <tr>\n",
       "      <th>...</th>\n",
       "      <td>...</td>\n",
       "    </tr>\n",
       "    <tr>\n",
       "      <th>2020-02-01</th>\n",
       "      <td>4789.0</td>\n",
       "    </tr>\n",
       "    <tr>\n",
       "      <th>2020-02-08</th>\n",
       "      <td>4654.0</td>\n",
       "    </tr>\n",
       "    <tr>\n",
       "      <th>2020-02-15</th>\n",
       "      <td>3989.0</td>\n",
       "    </tr>\n",
       "    <tr>\n",
       "      <th>2020-02-22</th>\n",
       "      <td>3656.0</td>\n",
       "    </tr>\n",
       "    <tr>\n",
       "      <th>2020-02-29</th>\n",
       "      <td>3576.0</td>\n",
       "    </tr>\n",
       "  </tbody>\n",
       "</table>\n",
       "<p>183 rows × 1 columns</p>\n",
       "</div>"
      ],
      "text/plain": [
       "             Total Cases\n",
       "Week Ending             \n",
       "2016-09-03           2.0\n",
       "2016-09-10          18.0\n",
       "2016-09-17          23.0\n",
       "2016-09-24          44.0\n",
       "2016-10-01          63.0\n",
       "...                  ...\n",
       "2020-02-01        4789.0\n",
       "2020-02-08        4654.0\n",
       "2020-02-15        3989.0\n",
       "2020-02-22        3656.0\n",
       "2020-02-29        3576.0\n",
       "\n",
       "[183 rows x 1 columns]"
      ]
     },
     "execution_count": 19,
     "metadata": {},
     "output_type": "execute_result"
    }
   ],
   "source": [
    "df_flu_pre_COVID"
   ]
  },
  {
   "cell_type": "code",
   "execution_count": 20,
   "metadata": {},
   "outputs": [],
   "source": [
    "train_size = int(len(df_flu_pre_COVID) *.7)\n",
    "test_size = len(df_flu_pre_COVID) - train_size\n",
    "train, test = df_flu_pre_COVID[0:train_size], df_flu_pre_COVID[train_size:len(df_flu_pre_COVID)]"
   ]
  },
  {
   "cell_type": "code",
   "execution_count": 31,
   "metadata": {},
   "outputs": [
    {
     "data": {
      "text/html": [
       "<div>\n",
       "<style scoped>\n",
       "    .dataframe tbody tr th:only-of-type {\n",
       "        vertical-align: middle;\n",
       "    }\n",
       "\n",
       "    .dataframe tbody tr th {\n",
       "        vertical-align: top;\n",
       "    }\n",
       "\n",
       "    .dataframe thead th {\n",
       "        text-align: right;\n",
       "    }\n",
       "</style>\n",
       "<table border=\"1\" class=\"dataframe\">\n",
       "  <thead>\n",
       "    <tr style=\"text-align: right;\">\n",
       "      <th></th>\n",
       "      <th>Total Cases</th>\n",
       "    </tr>\n",
       "    <tr>\n",
       "      <th>Week Ending</th>\n",
       "      <th></th>\n",
       "    </tr>\n",
       "  </thead>\n",
       "  <tbody>\n",
       "    <tr>\n",
       "      <th>2019-02-16</th>\n",
       "      <td>1521.0</td>\n",
       "    </tr>\n",
       "    <tr>\n",
       "      <th>2019-02-23</th>\n",
       "      <td>1558.0</td>\n",
       "    </tr>\n",
       "    <tr>\n",
       "      <th>2019-03-02</th>\n",
       "      <td>1734.0</td>\n",
       "    </tr>\n",
       "    <tr>\n",
       "      <th>2019-03-09</th>\n",
       "      <td>1759.0</td>\n",
       "    </tr>\n",
       "    <tr>\n",
       "      <th>2019-03-16</th>\n",
       "      <td>1634.0</td>\n",
       "    </tr>\n",
       "    <tr>\n",
       "      <th>2019-03-23</th>\n",
       "      <td>1625.0</td>\n",
       "    </tr>\n",
       "    <tr>\n",
       "      <th>2019-03-30</th>\n",
       "      <td>1621.0</td>\n",
       "    </tr>\n",
       "    <tr>\n",
       "      <th>2019-04-06</th>\n",
       "      <td>1593.0</td>\n",
       "    </tr>\n",
       "    <tr>\n",
       "      <th>2019-04-13</th>\n",
       "      <td>1548.0</td>\n",
       "    </tr>\n",
       "    <tr>\n",
       "      <th>2019-04-20</th>\n",
       "      <td>1108.0</td>\n",
       "    </tr>\n",
       "    <tr>\n",
       "      <th>2019-04-27</th>\n",
       "      <td>941.0</td>\n",
       "    </tr>\n",
       "    <tr>\n",
       "      <th>2019-05-04</th>\n",
       "      <td>602.0</td>\n",
       "    </tr>\n",
       "    <tr>\n",
       "      <th>2019-05-11</th>\n",
       "      <td>604.0</td>\n",
       "    </tr>\n",
       "    <tr>\n",
       "      <th>2019-05-18</th>\n",
       "      <td>463.0</td>\n",
       "    </tr>\n",
       "    <tr>\n",
       "      <th>2019-05-25</th>\n",
       "      <td>298.0</td>\n",
       "    </tr>\n",
       "    <tr>\n",
       "      <th>2019-06-01</th>\n",
       "      <td>188.0</td>\n",
       "    </tr>\n",
       "    <tr>\n",
       "      <th>2019-06-08</th>\n",
       "      <td>143.0</td>\n",
       "    </tr>\n",
       "    <tr>\n",
       "      <th>2019-06-15</th>\n",
       "      <td>136.0</td>\n",
       "    </tr>\n",
       "    <tr>\n",
       "      <th>2019-06-22</th>\n",
       "      <td>105.0</td>\n",
       "    </tr>\n",
       "    <tr>\n",
       "      <th>2019-06-29</th>\n",
       "      <td>80.0</td>\n",
       "    </tr>\n",
       "    <tr>\n",
       "      <th>2019-07-06</th>\n",
       "      <td>53.0</td>\n",
       "    </tr>\n",
       "    <tr>\n",
       "      <th>2019-07-13</th>\n",
       "      <td>41.0</td>\n",
       "    </tr>\n",
       "    <tr>\n",
       "      <th>2019-07-20</th>\n",
       "      <td>35.0</td>\n",
       "    </tr>\n",
       "    <tr>\n",
       "      <th>2019-07-27</th>\n",
       "      <td>25.0</td>\n",
       "    </tr>\n",
       "    <tr>\n",
       "      <th>2019-08-03</th>\n",
       "      <td>31.0</td>\n",
       "    </tr>\n",
       "    <tr>\n",
       "      <th>2019-08-10</th>\n",
       "      <td>23.0</td>\n",
       "    </tr>\n",
       "    <tr>\n",
       "      <th>2019-08-17</th>\n",
       "      <td>18.0</td>\n",
       "    </tr>\n",
       "    <tr>\n",
       "      <th>2019-08-24</th>\n",
       "      <td>33.0</td>\n",
       "    </tr>\n",
       "    <tr>\n",
       "      <th>2019-08-31</th>\n",
       "      <td>28.0</td>\n",
       "    </tr>\n",
       "    <tr>\n",
       "      <th>2019-09-07</th>\n",
       "      <td>28.0</td>\n",
       "    </tr>\n",
       "    <tr>\n",
       "      <th>2019-09-14</th>\n",
       "      <td>29.0</td>\n",
       "    </tr>\n",
       "    <tr>\n",
       "      <th>2019-09-21</th>\n",
       "      <td>35.0</td>\n",
       "    </tr>\n",
       "    <tr>\n",
       "      <th>2019-09-28</th>\n",
       "      <td>37.0</td>\n",
       "    </tr>\n",
       "    <tr>\n",
       "      <th>2019-10-05</th>\n",
       "      <td>46.0</td>\n",
       "    </tr>\n",
       "    <tr>\n",
       "      <th>2019-10-12</th>\n",
       "      <td>57.0</td>\n",
       "    </tr>\n",
       "    <tr>\n",
       "      <th>2019-10-19</th>\n",
       "      <td>81.0</td>\n",
       "    </tr>\n",
       "    <tr>\n",
       "      <th>2019-10-26</th>\n",
       "      <td>81.0</td>\n",
       "    </tr>\n",
       "    <tr>\n",
       "      <th>2019-11-02</th>\n",
       "      <td>99.0</td>\n",
       "    </tr>\n",
       "    <tr>\n",
       "      <th>2019-11-09</th>\n",
       "      <td>173.0</td>\n",
       "    </tr>\n",
       "    <tr>\n",
       "      <th>2019-11-16</th>\n",
       "      <td>225.0</td>\n",
       "    </tr>\n",
       "    <tr>\n",
       "      <th>2019-11-23</th>\n",
       "      <td>324.0</td>\n",
       "    </tr>\n",
       "    <tr>\n",
       "      <th>2019-11-30</th>\n",
       "      <td>557.0</td>\n",
       "    </tr>\n",
       "    <tr>\n",
       "      <th>2019-12-07</th>\n",
       "      <td>737.0</td>\n",
       "    </tr>\n",
       "    <tr>\n",
       "      <th>2019-12-14</th>\n",
       "      <td>1290.0</td>\n",
       "    </tr>\n",
       "    <tr>\n",
       "      <th>2019-12-21</th>\n",
       "      <td>2206.0</td>\n",
       "    </tr>\n",
       "    <tr>\n",
       "      <th>2019-12-28</th>\n",
       "      <td>3126.0</td>\n",
       "    </tr>\n",
       "    <tr>\n",
       "      <th>2020-01-04</th>\n",
       "      <td>3845.0</td>\n",
       "    </tr>\n",
       "    <tr>\n",
       "      <th>2020-01-11</th>\n",
       "      <td>3811.0</td>\n",
       "    </tr>\n",
       "    <tr>\n",
       "      <th>2020-01-18</th>\n",
       "      <td>3549.0</td>\n",
       "    </tr>\n",
       "    <tr>\n",
       "      <th>2020-01-25</th>\n",
       "      <td>4182.0</td>\n",
       "    </tr>\n",
       "    <tr>\n",
       "      <th>2020-02-01</th>\n",
       "      <td>4789.0</td>\n",
       "    </tr>\n",
       "    <tr>\n",
       "      <th>2020-02-08</th>\n",
       "      <td>4654.0</td>\n",
       "    </tr>\n",
       "    <tr>\n",
       "      <th>2020-02-15</th>\n",
       "      <td>3989.0</td>\n",
       "    </tr>\n",
       "    <tr>\n",
       "      <th>2020-02-22</th>\n",
       "      <td>3656.0</td>\n",
       "    </tr>\n",
       "    <tr>\n",
       "      <th>2020-02-29</th>\n",
       "      <td>3576.0</td>\n",
       "    </tr>\n",
       "  </tbody>\n",
       "</table>\n",
       "</div>"
      ],
      "text/plain": [
       "             Total Cases\n",
       "Week Ending             \n",
       "2019-02-16        1521.0\n",
       "2019-02-23        1558.0\n",
       "2019-03-02        1734.0\n",
       "2019-03-09        1759.0\n",
       "2019-03-16        1634.0\n",
       "2019-03-23        1625.0\n",
       "2019-03-30        1621.0\n",
       "2019-04-06        1593.0\n",
       "2019-04-13        1548.0\n",
       "2019-04-20        1108.0\n",
       "2019-04-27         941.0\n",
       "2019-05-04         602.0\n",
       "2019-05-11         604.0\n",
       "2019-05-18         463.0\n",
       "2019-05-25         298.0\n",
       "2019-06-01         188.0\n",
       "2019-06-08         143.0\n",
       "2019-06-15         136.0\n",
       "2019-06-22         105.0\n",
       "2019-06-29          80.0\n",
       "2019-07-06          53.0\n",
       "2019-07-13          41.0\n",
       "2019-07-20          35.0\n",
       "2019-07-27          25.0\n",
       "2019-08-03          31.0\n",
       "2019-08-10          23.0\n",
       "2019-08-17          18.0\n",
       "2019-08-24          33.0\n",
       "2019-08-31          28.0\n",
       "2019-09-07          28.0\n",
       "2019-09-14          29.0\n",
       "2019-09-21          35.0\n",
       "2019-09-28          37.0\n",
       "2019-10-05          46.0\n",
       "2019-10-12          57.0\n",
       "2019-10-19          81.0\n",
       "2019-10-26          81.0\n",
       "2019-11-02          99.0\n",
       "2019-11-09         173.0\n",
       "2019-11-16         225.0\n",
       "2019-11-23         324.0\n",
       "2019-11-30         557.0\n",
       "2019-12-07         737.0\n",
       "2019-12-14        1290.0\n",
       "2019-12-21        2206.0\n",
       "2019-12-28        3126.0\n",
       "2020-01-04        3845.0\n",
       "2020-01-11        3811.0\n",
       "2020-01-18        3549.0\n",
       "2020-01-25        4182.0\n",
       "2020-02-01        4789.0\n",
       "2020-02-08        4654.0\n",
       "2020-02-15        3989.0\n",
       "2020-02-22        3656.0\n",
       "2020-02-29        3576.0"
      ]
     },
     "execution_count": 31,
     "metadata": {},
     "output_type": "execute_result"
    }
   ],
   "source": [
    "test"
   ]
  },
  {
   "cell_type": "markdown",
   "metadata": {},
   "source": [
    "# Choosing ARIMA Parameters"
   ]
  },
  {
   "cell_type": "code",
   "execution_count": 21,
   "metadata": {},
   "outputs": [
    {
     "name": "stdout",
     "output_type": "stream",
     "text": [
      "Results of Dickey-Fuller Test:\n",
      "Test Statistic                  -4.279900\n",
      "p-value                          0.000481\n",
      "#Lags Used                       5.000000\n",
      "Number of Observations Used    177.000000\n",
      "Critical Value (1%)             -3.467845\n",
      "Critical Value (5%)             -2.878012\n",
      "Critical Value (10%)            -2.575551\n",
      "dtype: float64\n"
     ]
    }
   ],
   "source": [
    "# test for stationarity - choose d\n",
    "test_stationarity(df_flu_pre_COVID)"
   ]
  },
  {
   "cell_type": "code",
   "execution_count": 22,
   "metadata": {},
   "outputs": [],
   "source": [
    "d = 0 # time series is stationary, so don't need to apply differencing"
   ]
  },
  {
   "cell_type": "code",
   "execution_count": 23,
   "metadata": {},
   "outputs": [
    {
     "data": {
      "image/png": "[encoded data removed]",
      "text/plain": [
       "<Figure size 2000x1000 with 1 Axes>"
      ]
     },
     "metadata": {},
     "output_type": "display_data"
    }
   ],
   "source": [
    "# plot acf and specify the number of lags - choose q\n",
    "sm.graphics.tsa.plot_acf(df_flu_pre_COVID, lags=52)\n",
    "plt.show()"
   ]
  },
  {
   "cell_type": "code",
   "execution_count": 7,
   "metadata": {},
   "outputs": [],
   "source": [
    "q = 6"
   ]
  },
  {
   "cell_type": "code",
   "execution_count": 25,
   "metadata": {},
   "outputs": [
    {
     "data": {
      "image/png": "[encoded data removed]",
      "text/plain": [
       "<Figure size 2000x1000 with 1 Axes>"
      ]
     },
     "metadata": {},
     "output_type": "display_data"
    }
   ],
   "source": [
    "# plot pacf and specify the number of lags - choose p\n",
    "sm.graphics.tsa.plot_pacf(df_flu_pre_COVID, lags=52)\n",
    "plt.show()"
   ]
  },
  {
   "cell_type": "code",
   "execution_count": 26,
   "metadata": {},
   "outputs": [],
   "source": [
    "p = 2"
   ]
  },
  {
   "cell_type": "markdown",
   "metadata": {},
   "source": [
    "# ARIMA - Pre-COVID"
   ]
  },
  {
   "cell_type": "code",
   "execution_count": 27,
   "metadata": {},
   "outputs": [
    {
     "name": "stdout",
     "output_type": "stream",
     "text": [
      "128\n",
      "55\n"
     ]
    }
   ],
   "source": [
    "print(len(train))\n",
    "print(len(test))"
   ]
  },
  {
   "cell_type": "code",
   "execution_count": 28,
   "metadata": {},
   "outputs": [
    {
     "name": "stderr",
     "output_type": "stream",
     "text": [
      "C:\\Users\\User\\AppData\\Roaming\\Python\\Python39\\site-packages\\statsmodels\\tsa\\base\\tsa_model.py:471: ValueWarning: No frequency information was provided, so inferred frequency W-SAT will be used.\n",
      "  self._init_dates(dates, freq)\n"
     ]
    },
    {
     "name": "stdout",
     "output_type": "stream",
     "text": [
      "Fitted model summary: \n",
      "                               SARIMAX Results                                \n",
      "==============================================================================\n",
      "Dep. Variable:            Total Cases   No. Observations:                  128\n",
      "Model:                 ARIMA(2, 0, 6)   Log Likelihood                -873.227\n",
      "Date:                Fri, 02 Dec 2022   AIC                           1766.453\n",
      "Time:                        00:00:47   BIC                           1794.973\n",
      "Sample:                    09-03-2016   HQIC                          1778.041\n",
      "                         - 02-09-2019                                         \n",
      "Covariance Type:                  opg                                         \n",
      "==============================================================================\n",
      "                 coef    std err          z      P>|z|      [0.025      0.975]\n",
      "------------------------------------------------------------------------------\n",
      "const       1040.7534    712.694      1.460      0.144    -356.101    2437.608\n",
      "ar.L1          1.7565      0.224      7.834      0.000       1.317       2.196\n",
      "ar.L2         -0.8115      0.200     -4.059      0.000      -1.203      -0.420\n",
      "ma.L1         -0.2520      0.237     -1.063      0.288      -0.717       0.213\n",
      "ma.L2         -0.0509      0.177     -0.289      0.773      -0.397       0.295\n",
      "ma.L3         -0.0699      0.139     -0.501      0.616      -0.343       0.203\n",
      "ma.L4          0.0333      0.136      0.245      0.807      -0.233       0.300\n",
      "ma.L5          0.2341      0.145      1.613      0.107      -0.050       0.519\n",
      "ma.L6          0.1128      0.236      0.477      0.633      -0.350       0.576\n",
      "sigma2      4.756e+04   2919.379     16.293      0.000    4.18e+04    5.33e+04\n",
      "===================================================================================\n",
      "Ljung-Box (L1) (Q):                   0.01   Jarque-Bera (JB):               867.38\n",
      "Prob(Q):                              0.92   Prob(JB):                         0.00\n",
      "Heteroskedasticity (H):               0.42   Skew:                            -0.70\n",
      "Prob(H) (two-sided):                  0.00   Kurtosis:                        15.68\n",
      "===================================================================================\n",
      "\n",
      "Warnings:\n",
      "[1] Covariance matrix calculated using the outer product of gradients (complex-step).\n",
      "Forecast: \n",
      "2019-02-16    1350.805820\n",
      "2019-02-23     863.644098\n",
      "2019-03-02     467.601882\n",
      "2019-03-09     214.425767\n",
      "Freq: W-SAT, Name: predicted_mean, dtype: float64\n"
     ]
    }
   ],
   "source": [
    "# Instantiate model\n",
    "model = ARIMA(train, order=(p,d,q), freq='W-SAT')\n",
    "\n",
    "# Fit model\n",
    "fitted_model = model.fit()\n",
    "print(f'Fitted model summary: \\n{fitted_model.summary()}')\n",
    "\n",
    "# Forecast\n",
    "forecast = fitted_model.forecast(steps=4)\n",
    "print(f'Forecast: \\n{forecast}')"
   ]
  },
  {
   "cell_type": "code",
   "execution_count": 34,
   "metadata": {},
   "outputs": [
    {
     "ename": "ValueError",
     "evalue": "endog and exog matrices are different sizes",
     "output_type": "error",
     "traceback": [
      "\u001b[1;31m---------------------------------------------------------------------------\u001b[0m",
      "\u001b[1;31mValueError\u001b[0m                                Traceback (most recent call last)",
      "Cell \u001b[1;32mIn [34], line 7\u001b[0m\n\u001b[0;32m      5\u001b[0m dta \u001b[39m=\u001b[39m train\n\u001b[0;32m      6\u001b[0m \u001b[39m# dta.index = pd.date_range(start='1700', end='2009', freq='A')\u001b[39;00m\n\u001b[1;32m----> 7\u001b[0m res \u001b[39m=\u001b[39m sm\u001b[39m.\u001b[39;49mtsa\u001b[39m.\u001b[39;49mARIMA(dta, (\u001b[39m3\u001b[39;49m, \u001b[39m0\u001b[39;49m, \u001b[39m6\u001b[39;49m))\u001b[39m.\u001b[39mfit()\n\u001b[0;32m      8\u001b[0m fig, ax \u001b[39m=\u001b[39m plt\u001b[39m.\u001b[39msubplots()\n\u001b[0;32m      9\u001b[0m ax \u001b[39m=\u001b[39m dta\u001b[39m.\u001b[39mloc[\u001b[39m'\u001b[39m\u001b[39m2016-09-03\u001b[39m\u001b[39m'\u001b[39m:]\u001b[39m.\u001b[39mplot(ax\u001b[39m=\u001b[39max)\n",
      "File \u001b[1;32m~\\AppData\\Roaming\\Python\\Python39\\site-packages\\statsmodels\\tsa\\arima\\model.py:153\u001b[0m, in \u001b[0;36mARIMA.__init__\u001b[1;34m(self, endog, exog, order, seasonal_order, trend, enforce_stationarity, enforce_invertibility, concentrate_scale, trend_offset, dates, freq, missing, validate_specification)\u001b[0m\n\u001b[0;32m    146\u001b[0m     trend \u001b[39m=\u001b[39m \u001b[39m'\u001b[39m\u001b[39mn\u001b[39m\u001b[39m'\u001b[39m\n\u001b[0;32m    148\u001b[0m \u001b[39m# Construct the specification\u001b[39;00m\n\u001b[0;32m    149\u001b[0m \u001b[39m# (don't pass specific values of enforce stationarity/invertibility,\u001b[39;00m\n\u001b[0;32m    150\u001b[0m \u001b[39m# because we don't actually want to restrict the estimators based on\u001b[39;00m\n\u001b[0;32m    151\u001b[0m \u001b[39m# this criteria. Instead, we'll just make sure that the parameter\u001b[39;00m\n\u001b[0;32m    152\u001b[0m \u001b[39m# estimates from those methods satisfy the criteria.)\u001b[39;00m\n\u001b[1;32m--> 153\u001b[0m \u001b[39mself\u001b[39m\u001b[39m.\u001b[39m_spec_arima \u001b[39m=\u001b[39m SARIMAXSpecification(\n\u001b[0;32m    154\u001b[0m     endog, exog\u001b[39m=\u001b[39;49mexog, order\u001b[39m=\u001b[39;49morder, seasonal_order\u001b[39m=\u001b[39;49mseasonal_order,\n\u001b[0;32m    155\u001b[0m     trend\u001b[39m=\u001b[39;49mtrend, enforce_stationarity\u001b[39m=\u001b[39;49m\u001b[39mNone\u001b[39;49;00m, enforce_invertibility\u001b[39m=\u001b[39;49m\u001b[39mNone\u001b[39;49;00m,\n\u001b[0;32m    156\u001b[0m     concentrate_scale\u001b[39m=\u001b[39;49mconcentrate_scale, trend_offset\u001b[39m=\u001b[39;49mtrend_offset,\n\u001b[0;32m    157\u001b[0m     dates\u001b[39m=\u001b[39;49mdates, freq\u001b[39m=\u001b[39;49mfreq, missing\u001b[39m=\u001b[39;49mmissing,\n\u001b[0;32m    158\u001b[0m     validate_specification\u001b[39m=\u001b[39;49mvalidate_specification)\n\u001b[0;32m    159\u001b[0m exog \u001b[39m=\u001b[39m \u001b[39mself\u001b[39m\u001b[39m.\u001b[39m_spec_arima\u001b[39m.\u001b[39m_model\u001b[39m.\u001b[39mdata\u001b[39m.\u001b[39morig_exog\n\u001b[0;32m    161\u001b[0m \u001b[39m# Raise an error if we have a constant in an integrated model\u001b[39;00m\n",
      "File \u001b[1;32m~\\AppData\\Roaming\\Python\\Python39\\site-packages\\statsmodels\\tsa\\arima\\specification.py:446\u001b[0m, in \u001b[0;36mSARIMAXSpecification.__init__\u001b[1;34m(self, endog, exog, order, seasonal_order, ar_order, diff, ma_order, seasonal_ar_order, seasonal_diff, seasonal_ma_order, seasonal_periods, trend, enforce_stationarity, enforce_invertibility, concentrate_scale, trend_offset, dates, freq, missing, validate_specification)\u001b[0m\n\u001b[0;32m    441\u001b[0m         exog \u001b[39m=\u001b[39m np\u001b[39m.\u001b[39mc_[trend_data, exog]\n\u001b[0;32m    443\u001b[0m \u001b[39m# Create an underlying time series model, to handle endog / exog,\u001b[39;00m\n\u001b[0;32m    444\u001b[0m \u001b[39m# especially validating shapes, retrieving names, and potentially\u001b[39;00m\n\u001b[0;32m    445\u001b[0m \u001b[39m# providing us with a time series index\u001b[39;00m\n\u001b[1;32m--> 446\u001b[0m \u001b[39mself\u001b[39m\u001b[39m.\u001b[39m_model \u001b[39m=\u001b[39m TimeSeriesModel(endog, exog\u001b[39m=\u001b[39;49mexog, dates\u001b[39m=\u001b[39;49mdates, freq\u001b[39m=\u001b[39;49mfreq,\n\u001b[0;32m    447\u001b[0m                               missing\u001b[39m=\u001b[39;49mmissing)\n\u001b[0;32m    448\u001b[0m \u001b[39mself\u001b[39m\u001b[39m.\u001b[39mendog \u001b[39m=\u001b[39m \u001b[39mNone\u001b[39;00m \u001b[39mif\u001b[39;00m faux_endog \u001b[39melse\u001b[39;00m \u001b[39mself\u001b[39m\u001b[39m.\u001b[39m_model\u001b[39m.\u001b[39mendog\n\u001b[0;32m    449\u001b[0m \u001b[39mself\u001b[39m\u001b[39m.\u001b[39mexog \u001b[39m=\u001b[39m \u001b[39mself\u001b[39m\u001b[39m.\u001b[39m_model\u001b[39m.\u001b[39mexog\n",
      "File \u001b[1;32m~\\AppData\\Roaming\\Python\\Python39\\site-packages\\statsmodels\\tsa\\base\\tsa_model.py:468\u001b[0m, in \u001b[0;36mTimeSeriesModel.__init__\u001b[1;34m(self, endog, exog, dates, freq, missing, **kwargs)\u001b[0m\n\u001b[0;32m    465\u001b[0m \u001b[39mdef\u001b[39;00m \u001b[39m__init__\u001b[39m(\n\u001b[0;32m    466\u001b[0m     \u001b[39mself\u001b[39m, endog, exog\u001b[39m=\u001b[39m\u001b[39mNone\u001b[39;00m, dates\u001b[39m=\u001b[39m\u001b[39mNone\u001b[39;00m, freq\u001b[39m=\u001b[39m\u001b[39mNone\u001b[39;00m, missing\u001b[39m=\u001b[39m\u001b[39m\"\u001b[39m\u001b[39mnone\u001b[39m\u001b[39m\"\u001b[39m, \u001b[39m*\u001b[39m\u001b[39m*\u001b[39mkwargs\n\u001b[0;32m    467\u001b[0m ):\n\u001b[1;32m--> 468\u001b[0m     \u001b[39msuper\u001b[39m()\u001b[39m.\u001b[39m\u001b[39m__init__\u001b[39m(endog, exog, missing\u001b[39m=\u001b[39mmissing, \u001b[39m*\u001b[39m\u001b[39m*\u001b[39mkwargs)\n\u001b[0;32m    470\u001b[0m     \u001b[39m# Date handling in indexes\u001b[39;00m\n\u001b[0;32m    471\u001b[0m     \u001b[39mself\u001b[39m\u001b[39m.\u001b[39m_init_dates(dates, freq)\n",
      "File \u001b[1;32m~\\AppData\\Roaming\\Python\\Python39\\site-packages\\statsmodels\\base\\model.py:267\u001b[0m, in \u001b[0;36mLikelihoodModel.__init__\u001b[1;34m(self, endog, exog, **kwargs)\u001b[0m\n\u001b[0;32m    266\u001b[0m \u001b[39mdef\u001b[39;00m \u001b[39m__init__\u001b[39m(\u001b[39mself\u001b[39m, endog, exog\u001b[39m=\u001b[39m\u001b[39mNone\u001b[39;00m, \u001b[39m*\u001b[39m\u001b[39m*\u001b[39mkwargs):\n\u001b[1;32m--> 267\u001b[0m     \u001b[39msuper\u001b[39m()\u001b[39m.\u001b[39m\u001b[39m__init__\u001b[39m(endog, exog, \u001b[39m*\u001b[39m\u001b[39m*\u001b[39mkwargs)\n\u001b[0;32m    268\u001b[0m     \u001b[39mself\u001b[39m\u001b[39m.\u001b[39minitialize()\n",
      "File \u001b[1;32m~\\AppData\\Roaming\\Python\\Python39\\site-packages\\statsmodels\\base\\model.py:92\u001b[0m, in \u001b[0;36mModel.__init__\u001b[1;34m(self, endog, exog, **kwargs)\u001b[0m\n\u001b[0;32m     90\u001b[0m missing \u001b[39m=\u001b[39m kwargs\u001b[39m.\u001b[39mpop(\u001b[39m'\u001b[39m\u001b[39mmissing\u001b[39m\u001b[39m'\u001b[39m, \u001b[39m'\u001b[39m\u001b[39mnone\u001b[39m\u001b[39m'\u001b[39m)\n\u001b[0;32m     91\u001b[0m hasconst \u001b[39m=\u001b[39m kwargs\u001b[39m.\u001b[39mpop(\u001b[39m'\u001b[39m\u001b[39mhasconst\u001b[39m\u001b[39m'\u001b[39m, \u001b[39mNone\u001b[39;00m)\n\u001b[1;32m---> 92\u001b[0m \u001b[39mself\u001b[39m\u001b[39m.\u001b[39mdata \u001b[39m=\u001b[39m \u001b[39mself\u001b[39m\u001b[39m.\u001b[39m_handle_data(endog, exog, missing, hasconst,\n\u001b[0;32m     93\u001b[0m                               \u001b[39m*\u001b[39m\u001b[39m*\u001b[39mkwargs)\n\u001b[0;32m     94\u001b[0m \u001b[39mself\u001b[39m\u001b[39m.\u001b[39mk_constant \u001b[39m=\u001b[39m \u001b[39mself\u001b[39m\u001b[39m.\u001b[39mdata\u001b[39m.\u001b[39mk_constant\n\u001b[0;32m     95\u001b[0m \u001b[39mself\u001b[39m\u001b[39m.\u001b[39mexog \u001b[39m=\u001b[39m \u001b[39mself\u001b[39m\u001b[39m.\u001b[39mdata\u001b[39m.\u001b[39mexog\n",
      "File \u001b[1;32m~\\AppData\\Roaming\\Python\\Python39\\site-packages\\statsmodels\\base\\model.py:132\u001b[0m, in \u001b[0;36mModel._handle_data\u001b[1;34m(self, endog, exog, missing, hasconst, **kwargs)\u001b[0m\n\u001b[0;32m    131\u001b[0m \u001b[39mdef\u001b[39;00m \u001b[39m_handle_data\u001b[39m(\u001b[39mself\u001b[39m, endog, exog, missing, hasconst, \u001b[39m*\u001b[39m\u001b[39m*\u001b[39mkwargs):\n\u001b[1;32m--> 132\u001b[0m     data \u001b[39m=\u001b[39m handle_data(endog, exog, missing, hasconst, \u001b[39m*\u001b[39m\u001b[39m*\u001b[39mkwargs)\n\u001b[0;32m    133\u001b[0m     \u001b[39m# kwargs arrays could have changed, easier to just attach here\u001b[39;00m\n\u001b[0;32m    134\u001b[0m     \u001b[39mfor\u001b[39;00m key \u001b[39min\u001b[39;00m kwargs:\n",
      "File \u001b[1;32m~\\AppData\\Roaming\\Python\\Python39\\site-packages\\statsmodels\\base\\data.py:673\u001b[0m, in \u001b[0;36mhandle_data\u001b[1;34m(endog, exog, missing, hasconst, **kwargs)\u001b[0m\n\u001b[0;32m    670\u001b[0m     exog \u001b[39m=\u001b[39m np\u001b[39m.\u001b[39masarray(exog)\n\u001b[0;32m    672\u001b[0m klass \u001b[39m=\u001b[39m handle_data_class_factory(endog, exog)\n\u001b[1;32m--> 673\u001b[0m \u001b[39mreturn\u001b[39;00m klass(endog, exog\u001b[39m=\u001b[39mexog, missing\u001b[39m=\u001b[39mmissing, hasconst\u001b[39m=\u001b[39mhasconst,\n\u001b[0;32m    674\u001b[0m              \u001b[39m*\u001b[39m\u001b[39m*\u001b[39mkwargs)\n",
      "File \u001b[1;32m~\\AppData\\Roaming\\Python\\Python39\\site-packages\\statsmodels\\base\\data.py:87\u001b[0m, in \u001b[0;36mModelData.__init__\u001b[1;34m(self, endog, exog, missing, hasconst, **kwargs)\u001b[0m\n\u001b[0;32m     85\u001b[0m \u001b[39mself\u001b[39m\u001b[39m.\u001b[39mk_constant \u001b[39m=\u001b[39m \u001b[39m0\u001b[39m\n\u001b[0;32m     86\u001b[0m \u001b[39mself\u001b[39m\u001b[39m.\u001b[39m_handle_constant(hasconst)\n\u001b[1;32m---> 87\u001b[0m \u001b[39mself\u001b[39;49m\u001b[39m.\u001b[39;49m_check_integrity()\n\u001b[0;32m     88\u001b[0m \u001b[39mself\u001b[39m\u001b[39m.\u001b[39m_cache \u001b[39m=\u001b[39m {}\n",
      "File \u001b[1;32m~\\AppData\\Roaming\\Python\\Python39\\site-packages\\statsmodels\\base\\data.py:532\u001b[0m, in \u001b[0;36mPandasData._check_integrity\u001b[1;34m(self)\u001b[0m\n\u001b[0;32m    528\u001b[0m \u001b[39mif\u001b[39;00m (exog \u001b[39mis\u001b[39;00m \u001b[39mnot\u001b[39;00m \u001b[39mNone\u001b[39;00m \u001b[39mand\u001b[39;00m\n\u001b[0;32m    529\u001b[0m         (\u001b[39mhasattr\u001b[39m(endog, \u001b[39m'\u001b[39m\u001b[39mindex\u001b[39m\u001b[39m'\u001b[39m) \u001b[39mand\u001b[39;00m \u001b[39mhasattr\u001b[39m(exog, \u001b[39m'\u001b[39m\u001b[39mindex\u001b[39m\u001b[39m'\u001b[39m)) \u001b[39mand\u001b[39;00m\n\u001b[0;32m    530\u001b[0m         \u001b[39mnot\u001b[39;00m \u001b[39mself\u001b[39m\u001b[39m.\u001b[39morig_endog\u001b[39m.\u001b[39mindex\u001b[39m.\u001b[39mequals(\u001b[39mself\u001b[39m\u001b[39m.\u001b[39morig_exog\u001b[39m.\u001b[39mindex)):\n\u001b[0;32m    531\u001b[0m     \u001b[39mraise\u001b[39;00m \u001b[39mValueError\u001b[39;00m(\u001b[39m\"\u001b[39m\u001b[39mThe indices for endog and exog are not aligned\u001b[39m\u001b[39m\"\u001b[39m)\n\u001b[1;32m--> 532\u001b[0m \u001b[39msuper\u001b[39;49m(PandasData, \u001b[39mself\u001b[39;49m)\u001b[39m.\u001b[39;49m_check_integrity()\n",
      "File \u001b[1;32m~\\AppData\\Roaming\\Python\\Python39\\site-packages\\statsmodels\\base\\data.py:434\u001b[0m, in \u001b[0;36mModelData._check_integrity\u001b[1;34m(self)\u001b[0m\n\u001b[0;32m    432\u001b[0m \u001b[39mif\u001b[39;00m \u001b[39mself\u001b[39m\u001b[39m.\u001b[39mexog \u001b[39mis\u001b[39;00m \u001b[39mnot\u001b[39;00m \u001b[39mNone\u001b[39;00m:\n\u001b[0;32m    433\u001b[0m     \u001b[39mif\u001b[39;00m \u001b[39mlen\u001b[39m(\u001b[39mself\u001b[39m\u001b[39m.\u001b[39mexog) \u001b[39m!=\u001b[39m \u001b[39mlen\u001b[39m(\u001b[39mself\u001b[39m\u001b[39m.\u001b[39mendog):\n\u001b[1;32m--> 434\u001b[0m         \u001b[39mraise\u001b[39;00m \u001b[39mValueError\u001b[39;00m(\u001b[39m\"\u001b[39m\u001b[39mendog and exog matrices are different sizes\u001b[39m\u001b[39m\"\u001b[39m)\n",
      "\u001b[1;31mValueError\u001b[0m: endog and exog matrices are different sizes"
     ]
    }
   ],
   "source": [
    "import statsmodels.api as sm\n",
    "import matplotlib.pyplot as plt\n",
    "import pandas as pd\n",
    "\n",
    "dta = train\n",
    "# dta.index = pd.date_range(start='1700', end='2009', freq='A')\n",
    "res = sm.tsa.ARIMA(dta, (3, 0, 6)).fit()\n",
    "fig, ax = plt.subplots()\n",
    "ax = dta.loc['2016-09-03':].plot(ax=ax)\n",
    "fig = res.plot_predict('2019-02-16', '2020-02-29', dynamic=True, ax=ax,\n",
    "                       plot_insample=False)\n",
    "plt.show()"
   ]
  },
  {
   "cell_type": "code",
   "execution_count": 30,
   "metadata": {},
   "outputs": [
    {
     "ename": "TypeError",
     "evalue": "cannot do slice indexing on DatetimeIndex with these indexers [Total Cases    1759.0\nName: 2019-03-09 00:00:00, dtype: float64] of type Series",
     "output_type": "error",
     "traceback": [
      "\u001b[1;31m---------------------------------------------------------------------------\u001b[0m",
      "\u001b[1;31mTypeError\u001b[0m                                 Traceback (most recent call last)",
      "Cell \u001b[1;32mIn [30], line 6\u001b[0m\n\u001b[0;32m      4\u001b[0m plot_start \u001b[39m=\u001b[39m df_flu_pre_COVID\u001b[39m.\u001b[39miloc[\u001b[39m-\u001b[39m\u001b[39m52\u001b[39m]\n\u001b[0;32m      5\u001b[0m stop \u001b[39m=\u001b[39m df_flu_pre_COVID\u001b[39m.\u001b[39miloc[\u001b[39m-\u001b[39m\u001b[39m1\u001b[39m]\n\u001b[1;32m----> 6\u001b[0m ax \u001b[39m=\u001b[39m df_flu_pre_COVID[plot_start:stop]\u001b[39m.\u001b[39mplot(ax\u001b[39m=\u001b[39max)\n\u001b[0;32m      7\u001b[0m plot_predict(fitted_model, forecast_start, stop, ax\u001b[39m=\u001b[39max)\n\u001b[0;32m      8\u001b[0m plt\u001b[39m.\u001b[39mshow()\n",
      "File \u001b[1;32m~\\AppData\\Roaming\\Python\\Python39\\site-packages\\pandas\\core\\frame.py:3777\u001b[0m, in \u001b[0;36mDataFrame.__getitem__\u001b[1;34m(self, key)\u001b[0m\n\u001b[0;32m   3775\u001b[0m         \u001b[39mreturn\u001b[39;00m \u001b[39mself\u001b[39m\u001b[39m.\u001b[39m_getitem_multilevel(key)\n\u001b[0;32m   3776\u001b[0m \u001b[39m# Do we have a slicer (on rows)?\u001b[39;00m\n\u001b[1;32m-> 3777\u001b[0m indexer \u001b[39m=\u001b[39m convert_to_index_sliceable(\u001b[39mself\u001b[39;49m, key)\n\u001b[0;32m   3778\u001b[0m \u001b[39mif\u001b[39;00m indexer \u001b[39mis\u001b[39;00m \u001b[39mnot\u001b[39;00m \u001b[39mNone\u001b[39;00m:\n\u001b[0;32m   3779\u001b[0m     \u001b[39mif\u001b[39;00m \u001b[39misinstance\u001b[39m(indexer, np\u001b[39m.\u001b[39mndarray):\n",
      "File \u001b[1;32m~\\AppData\\Roaming\\Python\\Python39\\site-packages\\pandas\\core\\indexing.py:2490\u001b[0m, in \u001b[0;36mconvert_to_index_sliceable\u001b[1;34m(obj, key)\u001b[0m\n\u001b[0;32m   2488\u001b[0m idx \u001b[39m=\u001b[39m obj\u001b[39m.\u001b[39mindex\n\u001b[0;32m   2489\u001b[0m \u001b[39mif\u001b[39;00m \u001b[39misinstance\u001b[39m(key, \u001b[39mslice\u001b[39m):\n\u001b[1;32m-> 2490\u001b[0m     \u001b[39mreturn\u001b[39;00m idx\u001b[39m.\u001b[39;49m_convert_slice_indexer(key, kind\u001b[39m=\u001b[39;49m\u001b[39m\"\u001b[39;49m\u001b[39mgetitem\u001b[39;49m\u001b[39m\"\u001b[39;49m, is_frame\u001b[39m=\u001b[39;49m\u001b[39mTrue\u001b[39;49;00m)\n\u001b[0;32m   2492\u001b[0m \u001b[39melif\u001b[39;00m \u001b[39misinstance\u001b[39m(key, \u001b[39mstr\u001b[39m):\n\u001b[0;32m   2493\u001b[0m \n\u001b[0;32m   2494\u001b[0m     \u001b[39m# we are an actual column\u001b[39;00m\n\u001b[0;32m   2495\u001b[0m     \u001b[39mif\u001b[39;00m key \u001b[39min\u001b[39;00m obj\u001b[39m.\u001b[39mcolumns:\n",
      "File \u001b[1;32m~\\AppData\\Roaming\\Python\\Python39\\site-packages\\pandas\\core\\indexes\\base.py:4324\u001b[0m, in \u001b[0;36mIndex._convert_slice_indexer\u001b[1;34m(self, key, kind, is_frame)\u001b[0m\n\u001b[0;32m   4322\u001b[0m     indexer \u001b[39m=\u001b[39m key\n\u001b[0;32m   4323\u001b[0m \u001b[39melse\u001b[39;00m:\n\u001b[1;32m-> 4324\u001b[0m     indexer \u001b[39m=\u001b[39m \u001b[39mself\u001b[39;49m\u001b[39m.\u001b[39;49mslice_indexer(start, stop, step)\n\u001b[0;32m   4326\u001b[0m \u001b[39mreturn\u001b[39;00m indexer\n",
      "File \u001b[1;32m~\\AppData\\Roaming\\Python\\Python39\\site-packages\\pandas\\core\\indexes\\datetimes.py:812\u001b[0m, in \u001b[0;36mDatetimeIndex.slice_indexer\u001b[1;34m(self, start, end, step, kind)\u001b[0m\n\u001b[0;32m    804\u001b[0m \u001b[39m# GH#33146 if start and end are combinations of str and None and Index is not\u001b[39;00m\n\u001b[0;32m    805\u001b[0m \u001b[39m# monotonic, we can not use Index.slice_indexer because it does not honor the\u001b[39;00m\n\u001b[0;32m    806\u001b[0m \u001b[39m# actual elements, is only searching for start and end\u001b[39;00m\n\u001b[0;32m    807\u001b[0m \u001b[39mif\u001b[39;00m (\n\u001b[0;32m    808\u001b[0m     check_str_or_none(start)\n\u001b[0;32m    809\u001b[0m     \u001b[39mor\u001b[39;00m check_str_or_none(end)\n\u001b[0;32m    810\u001b[0m     \u001b[39mor\u001b[39;00m \u001b[39mself\u001b[39m\u001b[39m.\u001b[39mis_monotonic_increasing\n\u001b[0;32m    811\u001b[0m ):\n\u001b[1;32m--> 812\u001b[0m     \u001b[39mreturn\u001b[39;00m Index\u001b[39m.\u001b[39;49mslice_indexer(\u001b[39mself\u001b[39;49m, start, end, step, kind\u001b[39m=\u001b[39;49mkind)\n\u001b[0;32m    814\u001b[0m mask \u001b[39m=\u001b[39m np\u001b[39m.\u001b[39marray(\u001b[39mTrue\u001b[39;00m)\n\u001b[0;32m    815\u001b[0m deprecation_mask \u001b[39m=\u001b[39m np\u001b[39m.\u001b[39marray(\u001b[39mTrue\u001b[39;00m)\n",
      "File \u001b[1;32m~\\AppData\\Roaming\\Python\\Python39\\site-packages\\pandas\\core\\indexes\\base.py:6597\u001b[0m, in \u001b[0;36mIndex.slice_indexer\u001b[1;34m(self, start, end, step, kind)\u001b[0m\n\u001b[0;32m   6554\u001b[0m \u001b[39m\"\"\"\u001b[39;00m\n\u001b[0;32m   6555\u001b[0m \u001b[39mCompute the slice indexer for input labels and step.\u001b[39;00m\n\u001b[0;32m   6556\u001b[0m \n\u001b[1;32m   (...)\u001b[0m\n\u001b[0;32m   6593\u001b[0m \u001b[39mslice(1, 3, None)\u001b[39;00m\n\u001b[0;32m   6594\u001b[0m \u001b[39m\"\"\"\u001b[39;00m\n\u001b[0;32m   6595\u001b[0m \u001b[39mself\u001b[39m\u001b[39m.\u001b[39m_deprecated_arg(kind, \u001b[39m\"\u001b[39m\u001b[39mkind\u001b[39m\u001b[39m\"\u001b[39m, \u001b[39m\"\u001b[39m\u001b[39mslice_indexer\u001b[39m\u001b[39m\"\u001b[39m)\n\u001b[1;32m-> 6597\u001b[0m start_slice, end_slice \u001b[39m=\u001b[39m \u001b[39mself\u001b[39;49m\u001b[39m.\u001b[39;49mslice_locs(start, end, step\u001b[39m=\u001b[39;49mstep)\n\u001b[0;32m   6599\u001b[0m \u001b[39m# return a slice\u001b[39;00m\n\u001b[0;32m   6600\u001b[0m \u001b[39mif\u001b[39;00m \u001b[39mnot\u001b[39;00m is_scalar(start_slice):\n",
      "File \u001b[1;32m~\\AppData\\Roaming\\Python\\Python39\\site-packages\\pandas\\core\\indexes\\base.py:6805\u001b[0m, in \u001b[0;36mIndex.slice_locs\u001b[1;34m(self, start, end, step, kind)\u001b[0m\n\u001b[0;32m   6803\u001b[0m start_slice \u001b[39m=\u001b[39m \u001b[39mNone\u001b[39;00m\n\u001b[0;32m   6804\u001b[0m \u001b[39mif\u001b[39;00m start \u001b[39mis\u001b[39;00m \u001b[39mnot\u001b[39;00m \u001b[39mNone\u001b[39;00m:\n\u001b[1;32m-> 6805\u001b[0m     start_slice \u001b[39m=\u001b[39m \u001b[39mself\u001b[39;49m\u001b[39m.\u001b[39;49mget_slice_bound(start, \u001b[39m\"\u001b[39;49m\u001b[39mleft\u001b[39;49m\u001b[39m\"\u001b[39;49m)\n\u001b[0;32m   6806\u001b[0m \u001b[39mif\u001b[39;00m start_slice \u001b[39mis\u001b[39;00m \u001b[39mNone\u001b[39;00m:\n\u001b[0;32m   6807\u001b[0m     start_slice \u001b[39m=\u001b[39m \u001b[39m0\u001b[39m\n",
      "File \u001b[1;32m~\\AppData\\Roaming\\Python\\Python39\\site-packages\\pandas\\core\\indexes\\base.py:6714\u001b[0m, in \u001b[0;36mIndex.get_slice_bound\u001b[1;34m(self, label, side, kind)\u001b[0m\n\u001b[0;32m   6710\u001b[0m original_label \u001b[39m=\u001b[39m label\n\u001b[0;32m   6712\u001b[0m \u001b[39m# For datetime indices label may be a string that has to be converted\u001b[39;00m\n\u001b[0;32m   6713\u001b[0m \u001b[39m# to datetime boundary according to its resolution.\u001b[39;00m\n\u001b[1;32m-> 6714\u001b[0m label \u001b[39m=\u001b[39m \u001b[39mself\u001b[39;49m\u001b[39m.\u001b[39;49m_maybe_cast_slice_bound(label, side)\n\u001b[0;32m   6716\u001b[0m \u001b[39m# we need to look up the label\u001b[39;00m\n\u001b[0;32m   6717\u001b[0m \u001b[39mtry\u001b[39;00m:\n",
      "File \u001b[1;32m~\\AppData\\Roaming\\Python\\Python39\\site-packages\\pandas\\core\\indexes\\datetimes.py:770\u001b[0m, in \u001b[0;36mDatetimeIndex._maybe_cast_slice_bound\u001b[1;34m(self, label, side, kind)\u001b[0m\n\u001b[0;32m    765\u001b[0m \u001b[39mif\u001b[39;00m \u001b[39misinstance\u001b[39m(label, date) \u001b[39mand\u001b[39;00m \u001b[39mnot\u001b[39;00m \u001b[39misinstance\u001b[39m(label, datetime):\n\u001b[0;32m    766\u001b[0m     \u001b[39m# Pandas supports slicing with dates, treated as datetimes at midnight.\u001b[39;00m\n\u001b[0;32m    767\u001b[0m     \u001b[39m# https://github.com/pandas-dev/pandas/issues/31501\u001b[39;00m\n\u001b[0;32m    768\u001b[0m     label \u001b[39m=\u001b[39m Timestamp(label)\u001b[39m.\u001b[39mto_pydatetime()\n\u001b[1;32m--> 770\u001b[0m label \u001b[39m=\u001b[39m \u001b[39msuper\u001b[39;49m()\u001b[39m.\u001b[39;49m_maybe_cast_slice_bound(label, side, kind\u001b[39m=\u001b[39;49mkind)\n\u001b[0;32m    771\u001b[0m \u001b[39mself\u001b[39m\u001b[39m.\u001b[39m_deprecate_mismatched_indexing(label)\n\u001b[0;32m    772\u001b[0m \u001b[39mreturn\u001b[39;00m \u001b[39mself\u001b[39m\u001b[39m.\u001b[39m_maybe_cast_for_get_loc(label)\n",
      "File \u001b[1;32m~\\AppData\\Roaming\\Python\\Python39\\site-packages\\pandas\\core\\indexes\\datetimelike.py:321\u001b[0m, in \u001b[0;36mDatetimeIndexOpsMixin._maybe_cast_slice_bound\u001b[1;34m(self, label, side, kind)\u001b[0m\n\u001b[0;32m    319\u001b[0m     \u001b[39mreturn\u001b[39;00m lower \u001b[39mif\u001b[39;00m side \u001b[39m==\u001b[39m \u001b[39m\"\u001b[39m\u001b[39mleft\u001b[39m\u001b[39m\"\u001b[39m \u001b[39melse\u001b[39;00m upper\n\u001b[0;32m    320\u001b[0m \u001b[39melif\u001b[39;00m \u001b[39mnot\u001b[39;00m \u001b[39misinstance\u001b[39m(label, \u001b[39mself\u001b[39m\u001b[39m.\u001b[39m_data\u001b[39m.\u001b[39m_recognized_scalars):\n\u001b[1;32m--> 321\u001b[0m     \u001b[39mraise\u001b[39;00m \u001b[39mself\u001b[39m\u001b[39m.\u001b[39m_invalid_indexer(\u001b[39m\"\u001b[39m\u001b[39mslice\u001b[39m\u001b[39m\"\u001b[39m, label)\n\u001b[0;32m    323\u001b[0m \u001b[39mreturn\u001b[39;00m label\n",
      "\u001b[1;31mTypeError\u001b[0m: cannot do slice indexing on DatetimeIndex with these indexers [Total Cases    1759.0\nName: 2019-03-09 00:00:00, dtype: float64] of type Series"
     ]
    },
    {
     "data": {
      "image/png": "[encoded data removed]",
      "text/plain": [
       "<Figure size 2000x1000 with 1 Axes>"
      ]
     },
     "metadata": {},
     "output_type": "display_data"
    }
   ],
   "source": [
    "# Plot forecast\n",
    "fig, ax = plt.subplots()\n",
    "forecast_start = df_flu_pre_COVID.iloc[-4]\n",
    "plot_start = df_flu_pre_COVID.iloc[-52]\n",
    "stop = df_flu_pre_COVID.iloc[-1]\n",
    "ax = df_flu_pre_COVID[plot_start:stop].plot(ax=ax)\n",
    "plot_predict(fitted_model, forecast_start, stop, ax=ax)\n",
    "plt.show()"
   ]
  },
  {
   "cell_type": "code",
   "execution_count": null,
   "metadata": {},
   "outputs": [],
   "source": []
  }
 ],
 "metadata": {
  "kernelspec": {
   "display_name": "Python 3.9.13 64-bit",
   "language": "python",
   "name": "python3"
  },
  "language_info": {
   "codemirror_mode": {
    "name": "ipython",
    "version": 3
   },
   "file_extension": ".py",
   "mimetype": "text/x-python",
   "name": "python",
   "nbconvert_exporter": "python",
   "pygments_lexer": "ipython3",
   "version": "3.9.13"
  },
  "orig_nbformat": 4,
  "vscode": {
   "interpreter": {
    "hash": "11938c6bc6919ae2720b4d5011047913343b08a43b18698fd82dedb0d4417594"
   }
  }
 },
 "nbformat": 4,
 "nbformat_minor": 2
}
