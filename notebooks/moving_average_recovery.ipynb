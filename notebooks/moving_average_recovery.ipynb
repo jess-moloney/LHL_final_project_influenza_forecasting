{
 "cells": [
  {
   "cell_type": "code",
   "execution_count": 2,
   "metadata": {},
   "outputs": [
    {
     "ename": "SyntaxError",
     "evalue": "invalid syntax (3378499113.py, line 2)",
     "output_type": "error",
     "traceback": [
      "\u001b[1;36m  Cell \u001b[1;32mIn [2], line 2\u001b[1;36m\u001b[0m\n\u001b[1;33m    ...>\u001b[0m\n\u001b[1;37m        ^\u001b[0m\n\u001b[1;31mSyntaxError\u001b[0m\u001b[1;31m:\u001b[0m invalid syntax\n"
     ]
    }
   ],
   "source": [
    "def moving_average(data, dataset, train_test, window, forecast_weeks):\n",
    "\n",
    "# dataset = 'Pre-COVID' or 'Full Dataset'\n",
    "# train = 'Training' or 'Test'\n",
    "   \n",
    "    if forecast_weeks > 1:\n",
    "        freq = str(forecast_weeks)+'W'\n",
    "        data = data.set_index('Week Ending')\n",
    "        data = data.resample(freq).mean()\n",
    "   \n",
    "    X = data['Total Cases']\n",
    "    window = window\n",
    "    history = [X[i] for i in range(window)]\n",
    "    test = [X[i] for i in range(window, len(X))]\n",
    "    predictions = list()\n",
    "   \n",
    "    # walk forward over time steps in test\n",
    "    for t in range(len(test)):\n",
    "        length = len(history)\n",
    "        yhat = mean([history[i] for i in range(length-window, length)])\n",
    "        obs = test[t]\n",
    "        predictions.append(yhat)\n",
    "        history.append(obs)\n",
    "        # print(f'predicted={yhat}, actual={obs}')\n",
    "   \n",
    "    # plot\n",
    "    plt.plot(test, color='blue', label='Actual Cases')\n",
    "    plt.plot(predictions, color='red', label='Predicted Cases')\n",
    "    plt.title(dataset + ' Cases Prediction'+' - '+str(forecast_weeks) +'-Week Forecast')\n",
    "    plt.xlabel('Date')\n",
    "    plt.ylabel('Cases')\n",
    "    plt.legend()\n",
    "    plt.show()\n",
    "   \n",
    "    if train_test == 'Training':\n",
    "        MSE_train = round(mean_squared_error(X[window:], predictions),2)\n",
    "        RMSE_train = round(mean_squared_error(X[window:], predictions, squared=False),2)\n",
    "        MAE_train = round(mean_absolute_error(X[window:], predictions),2)\n",
    "        R2_train = r2_score(X[window:], predictions)\n",
    "        MSE_test = np.nan\n",
    "        RMSE_test = np.nan\n",
    "        MAE_test = np.nan\n",
    "        R2_test = np.nan\n",
    "    else:\n",
    "        MSE_test = round(mean_squared_error(X[window:], predictions),2)\n",
    "        RMSE_test = round(mean_squared_error(X[window:], predictions, squared=False),2)\n",
    "        MAE_test = round(mean_absolute_error(X[window:], predictions),2)\n",
    "        R2_test = r2_score(X[window:], predictions)\n",
    "        MSE_train = np.nan\n",
    "        RMSE_train = np.nan\n",
    "        MAE_train = np.nan\n",
    "        R2_train = np.nan\n",
    "   \n",
    "    results = []\n",
    "   \n",
    "    results.append(MSE_train)\n",
    "    results.append(MSE_test)\n",
    "    results.append(RMSE_train)\n",
    "    results.append(RMSE_test)\n",
    "    results.append(MAE_train)\n",
    "    results.append(MAE_test)\n",
    "    results.append(R2_train)\n",
    "    results.append(R2_test)\n",
    "   \n",
    "    results.insert(0, train_test)\n",
    "    results.insert(1, dataset)\n",
    "    results.insert(2, forecast_weeks)\n",
    "   \n",
    "    results_matrix = pickle.load(open(r\"..\\data\\results_matrix_moving_average.pkl\", \"rb\" ))\n",
    "   \n",
    "    results_matrix = pd.concat([results_matrix.T, pd.Series(results, index=results_matrix.columns)], axis=1).T\n",
    "   \n",
    "    pickle.dump(results_matrix, open(r\"..\\data\\results_matrix_moving_average.pkl\", \"wb\" ))\n",
    "   \n",
    "    return results_matrix"
   ]
  },
  {
   "cell_type": "code",
   "execution_count": null,
   "metadata": {},
   "outputs": [],
   "source": [
    "for i in range(1,5):\n",
    "    results_matrix = moving_average(data=df_train, dataset='Pre-COVID', train_test='Training', window=2, forecast_weeks=i)\n",
    "    results_matrix = moving_average(data=df_test, dataset='Pre-COVID', train_test='Test', window=2, forecast_weeks=i)\n",
    "results_matrix\n",
    "\n",
    "df_train = pickle.load(open(r\"..\\data\\flu_cases\\df_cases_train.pkl\", \"rb\" ))\n",
    "df_test = pickle.load(open(r\"..\\data\\flu_cases\\df_cases_test.pkl\", \"rb\" ))\n",
    "\n",
    "# 1, 2, 3, and 4 week predictions on full dataset\n",
    "\n",
    "for i in range(1,5):\n",
    "    results_matrix = moving_average(data=df_train, dataset='Full Dataset', train_test='Training', window=2, forecast_weeks=i)\n",
    "    results_matrix = moving_average(data=df_test, dataset='Full Dataset', train_test='Test', window=2, forecast_weeks=i)\n",
    "results_matrix"
   ]
  }
 ],
 "metadata": {
  "kernelspec": {
   "display_name": "Python 3.9.13 64-bit",
   "language": "python",
   "name": "python3"
  },
  "language_info": {
   "codemirror_mode": {
    "name": "ipython",
    "version": 3
   },
   "file_extension": ".py",
   "mimetype": "text/x-python",
   "name": "python",
   "nbconvert_exporter": "python",
   "pygments_lexer": "ipython3",
   "version": "3.9.13"
  },
  "orig_nbformat": 4,
  "vscode": {
   "interpreter": {
    "hash": "11938c6bc6919ae2720b4d5011047913343b08a43b18698fd82dedb0d4417594"
   }
  }
 },
 "nbformat": 4,
 "nbformat_minor": 2
}
