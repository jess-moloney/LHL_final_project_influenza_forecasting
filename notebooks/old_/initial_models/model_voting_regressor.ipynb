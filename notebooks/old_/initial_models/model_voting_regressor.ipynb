{
 "cells": [
  {
   "cell_type": "markdown",
   "metadata": {},
   "source": [
    "# Imports"
   ]
  },
  {
   "cell_type": "code",
   "execution_count": 2,
   "metadata": {},
   "outputs": [],
   "source": [
    "import pickle\n",
    "import pandas as pd\n",
    "import numpy as np\n",
    "\n",
    "# plotting\n",
    "import matplotlib.pyplot as plt\n",
    "import seaborn as sns\n",
    "sns.set()\n",
    "plt.rcParams['figure.figsize'] = [20, 10]\n",
    "\n",
    "# custom functions\n",
    "import sys\n",
    "sys.path.append(r\"C:\\Users\\User\\Documents\\projects\\LHL_final_project_influenza_forecasting\\src\")\n",
    "from evaluate_model import *"
   ]
  },
  {
   "cell_type": "markdown",
   "metadata": {},
   "source": [
    "# Datasets"
   ]
  },
  {
   "cell_type": "code",
   "execution_count": 3,
   "metadata": {},
   "outputs": [],
   "source": [
    "df_all_features = pickle.load(open(r\"..\\data\\df_all_features.pkl\", \"rb\" ))\n",
    "df_pre_COVID_all_features = pickle.load(open(r\"..\\data\\df_pre_COVID_all_features.pkl\", \"rb\" ))\n",
    "df_COVID_all_features = pickle.load(open(r\"..\\data\\df_COVID_all_features.pkl\", \"rb\" ))"
   ]
  },
  {
   "cell_type": "markdown",
   "metadata": {},
   "source": [
    "# RF, all features - Gridsearch - Iteration 1"
   ]
  },
  {
   "cell_type": "code",
   "execution_count": 89,
   "metadata": {},
   "outputs": [],
   "source": [
    "from sklearn.model_selection import RandomizedSearchCV\n",
    "from sklearn.ensemble import RandomForestRegressor\n",
    "\n",
    "parameters = {  \n",
    "                'n_estimators':(80,100,120),\n",
    "                'criterion':('squared_error', 'absolute_error', 'poisson'),\n",
    "                'max_depth':(2,3,None),\n",
    "                'min_samples_split':(2,3,4),\n",
    "                'min_samples_leaf':(1,2,3),\n",
    "                'min_weight_fraction_leaf':(0.0,0.1,0.2),\n",
    "                'max_features':('sqrt', 'log2', None),\n",
    "                'max_leaf_nodes':(5,10,None),\n",
    "                'min_impurity_decrease':(0.0,0.1,0.2),\n",
    "                # 'bootstrap':(True,False),\n",
    "                # 'oob_score':(True,False),\n",
    "                'n_jobs':([-1]),\n",
    "                'random_state':([2022]),\n",
    "                'ccp_alpha':(0.0,0.1,0.2),\n",
    "                'max_samples':(10,20,None)\n",
    "                }\n",
    "\n",
    "rf = RandomForestRegressor()\n",
    "\n",
    "model = RandomizedSearchCV(rf, parameters, random_state=2022, scoring='neg_root_mean_squared_error')"
   ]
  },
  {
   "cell_type": "code",
   "execution_count": 90,
   "metadata": {},
   "outputs": [
    {
     "data": {
      "text/html": [
       "<style>#sk-container-id-10 {color: black;background-color: white;}#sk-container-id-10 pre{padding: 0;}#sk-container-id-10 div.sk-toggleable {background-color: white;}#sk-container-id-10 label.sk-toggleable__label {cursor: pointer;display: block;width: 100%;margin-bottom: 0;padding: 0.3em;box-sizing: border-box;text-align: center;}#sk-container-id-10 label.sk-toggleable__label-arrow:before {content: \"▸\";float: left;margin-right: 0.25em;color: #696969;}#sk-container-id-10 label.sk-toggleable__label-arrow:hover:before {color: black;}#sk-container-id-10 div.sk-estimator:hover label.sk-toggleable__label-arrow:before {color: black;}#sk-container-id-10 div.sk-toggleable__content {max-height: 0;max-width: 0;overflow: hidden;text-align: left;background-color: #f0f8ff;}#sk-container-id-10 div.sk-toggleable__content pre {margin: 0.2em;color: black;border-radius: 0.25em;background-color: #f0f8ff;}#sk-container-id-10 input.sk-toggleable__control:checked~div.sk-toggleable__content {max-height: 200px;max-width: 100%;overflow: auto;}#sk-container-id-10 input.sk-toggleable__control:checked~label.sk-toggleable__label-arrow:before {content: \"▾\";}#sk-container-id-10 div.sk-estimator input.sk-toggleable__control:checked~label.sk-toggleable__label {background-color: #d4ebff;}#sk-container-id-10 div.sk-label input.sk-toggleable__control:checked~label.sk-toggleable__label {background-color: #d4ebff;}#sk-container-id-10 input.sk-hidden--visually {border: 0;clip: rect(1px 1px 1px 1px);clip: rect(1px, 1px, 1px, 1px);height: 1px;margin: -1px;overflow: hidden;padding: 0;position: absolute;width: 1px;}#sk-container-id-10 div.sk-estimator {font-family: monospace;background-color: #f0f8ff;border: 1px dotted black;border-radius: 0.25em;box-sizing: border-box;margin-bottom: 0.5em;}#sk-container-id-10 div.sk-estimator:hover {background-color: #d4ebff;}#sk-container-id-10 div.sk-parallel-item::after {content: \"\";width: 100%;border-bottom: 1px solid gray;flex-grow: 1;}#sk-container-id-10 div.sk-label:hover label.sk-toggleable__label {background-color: #d4ebff;}#sk-container-id-10 div.sk-serial::before {content: \"\";position: absolute;border-left: 1px solid gray;box-sizing: border-box;top: 0;bottom: 0;left: 50%;z-index: 0;}#sk-container-id-10 div.sk-serial {display: flex;flex-direction: column;align-items: center;background-color: white;padding-right: 0.2em;padding-left: 0.2em;position: relative;}#sk-container-id-10 div.sk-item {position: relative;z-index: 1;}#sk-container-id-10 div.sk-parallel {display: flex;align-items: stretch;justify-content: center;background-color: white;position: relative;}#sk-container-id-10 div.sk-item::before, #sk-container-id-10 div.sk-parallel-item::before {content: \"\";position: absolute;border-left: 1px solid gray;box-sizing: border-box;top: 0;bottom: 0;left: 50%;z-index: -1;}#sk-container-id-10 div.sk-parallel-item {display: flex;flex-direction: column;z-index: 1;position: relative;background-color: white;}#sk-container-id-10 div.sk-parallel-item:first-child::after {align-self: flex-end;width: 50%;}#sk-container-id-10 div.sk-parallel-item:last-child::after {align-self: flex-start;width: 50%;}#sk-container-id-10 div.sk-parallel-item:only-child::after {width: 0;}#sk-container-id-10 div.sk-dashed-wrapped {border: 1px dashed gray;margin: 0 0.4em 0.5em 0.4em;box-sizing: border-box;padding-bottom: 0.4em;background-color: white;}#sk-container-id-10 div.sk-label label {font-family: monospace;font-weight: bold;display: inline-block;line-height: 1.2em;}#sk-container-id-10 div.sk-label-container {text-align: center;}#sk-container-id-10 div.sk-container {/* jupyter's `normalize.less` sets `[hidden] { display: none; }` but bootstrap.min.css set `[hidden] { display: none !important; }` so we also need the `!important` here to be able to override the default hidden behavior on the sphinx rendered scikit-learn.org. See: https://github.com/scikit-learn/scikit-learn/issues/21755 */display: inline-block !important;position: relative;}#sk-container-id-10 div.sk-text-repr-fallback {display: none;}</style><div id=\"sk-container-id-10\" class=\"sk-top-container\"><div class=\"sk-text-repr-fallback\"><pre>RandomizedSearchCV(estimator=RandomForestRegressor(),\n",
       "                   param_distributions={&#x27;ccp_alpha&#x27;: (0.0, 0.1, 0.2),\n",
       "                                        &#x27;criterion&#x27;: (&#x27;squared_error&#x27;,\n",
       "                                                      &#x27;absolute_error&#x27;,\n",
       "                                                      &#x27;poisson&#x27;),\n",
       "                                        &#x27;max_depth&#x27;: (2, 3, None),\n",
       "                                        &#x27;max_features&#x27;: (&#x27;sqrt&#x27;, &#x27;log2&#x27;, None),\n",
       "                                        &#x27;max_leaf_nodes&#x27;: (5, 10, None),\n",
       "                                        &#x27;max_samples&#x27;: (10, 20, None),\n",
       "                                        &#x27;min_impurity_decrease&#x27;: (0.0, 0.1,\n",
       "                                                                  0.2),\n",
       "                                        &#x27;min_samples_leaf&#x27;: (1, 2, 3),\n",
       "                                        &#x27;min_samples_split&#x27;: (2, 3, 4),\n",
       "                                        &#x27;min_weight_fraction_leaf&#x27;: (0.0, 0.1,\n",
       "                                                                     0.2),\n",
       "                                        &#x27;n_estimators&#x27;: (80, 100, 120),\n",
       "                                        &#x27;n_jobs&#x27;: [-1],\n",
       "                                        &#x27;random_state&#x27;: [2022]},\n",
       "                   random_state=2022, scoring=&#x27;neg_root_mean_squared_error&#x27;)</pre><b>In a Jupyter environment, please rerun this cell to show the HTML representation or trust the notebook. <br />On GitHub, the HTML representation is unable to render, please try loading this page with nbviewer.org.</b></div><div class=\"sk-container\" hidden><div class=\"sk-item sk-dashed-wrapped\"><div class=\"sk-label-container\"><div class=\"sk-label sk-toggleable\"><input class=\"sk-toggleable__control sk-hidden--visually\" id=\"sk-estimator-id-28\" type=\"checkbox\" ><label for=\"sk-estimator-id-28\" class=\"sk-toggleable__label sk-toggleable__label-arrow\">RandomizedSearchCV</label><div class=\"sk-toggleable__content\"><pre>RandomizedSearchCV(estimator=RandomForestRegressor(),\n",
       "                   param_distributions={&#x27;ccp_alpha&#x27;: (0.0, 0.1, 0.2),\n",
       "                                        &#x27;criterion&#x27;: (&#x27;squared_error&#x27;,\n",
       "                                                      &#x27;absolute_error&#x27;,\n",
       "                                                      &#x27;poisson&#x27;),\n",
       "                                        &#x27;max_depth&#x27;: (2, 3, None),\n",
       "                                        &#x27;max_features&#x27;: (&#x27;sqrt&#x27;, &#x27;log2&#x27;, None),\n",
       "                                        &#x27;max_leaf_nodes&#x27;: (5, 10, None),\n",
       "                                        &#x27;max_samples&#x27;: (10, 20, None),\n",
       "                                        &#x27;min_impurity_decrease&#x27;: (0.0, 0.1,\n",
       "                                                                  0.2),\n",
       "                                        &#x27;min_samples_leaf&#x27;: (1, 2, 3),\n",
       "                                        &#x27;min_samples_split&#x27;: (2, 3, 4),\n",
       "                                        &#x27;min_weight_fraction_leaf&#x27;: (0.0, 0.1,\n",
       "                                                                     0.2),\n",
       "                                        &#x27;n_estimators&#x27;: (80, 100, 120),\n",
       "                                        &#x27;n_jobs&#x27;: [-1],\n",
       "                                        &#x27;random_state&#x27;: [2022]},\n",
       "                   random_state=2022, scoring=&#x27;neg_root_mean_squared_error&#x27;)</pre></div></div></div><div class=\"sk-parallel\"><div class=\"sk-parallel-item\"><div class=\"sk-item\"><div class=\"sk-label-container\"><div class=\"sk-label sk-toggleable\"><input class=\"sk-toggleable__control sk-hidden--visually\" id=\"sk-estimator-id-29\" type=\"checkbox\" ><label for=\"sk-estimator-id-29\" class=\"sk-toggleable__label sk-toggleable__label-arrow\">estimator: RandomForestRegressor</label><div class=\"sk-toggleable__content\"><pre>RandomForestRegressor()</pre></div></div></div><div class=\"sk-serial\"><div class=\"sk-item\"><div class=\"sk-estimator sk-toggleable\"><input class=\"sk-toggleable__control sk-hidden--visually\" id=\"sk-estimator-id-30\" type=\"checkbox\" ><label for=\"sk-estimator-id-30\" class=\"sk-toggleable__label sk-toggleable__label-arrow\">RandomForestRegressor</label><div class=\"sk-toggleable__content\"><pre>RandomForestRegressor()</pre></div></div></div></div></div></div></div></div></div></div>"
      ],
      "text/plain": [
       "RandomizedSearchCV(estimator=RandomForestRegressor(),\n",
       "                   param_distributions={'ccp_alpha': (0.0, 0.1, 0.2),\n",
       "                                        'criterion': ('squared_error',\n",
       "                                                      'absolute_error',\n",
       "                                                      'poisson'),\n",
       "                                        'max_depth': (2, 3, None),\n",
       "                                        'max_features': ('sqrt', 'log2', None),\n",
       "                                        'max_leaf_nodes': (5, 10, None),\n",
       "                                        'max_samples': (10, 20, None),\n",
       "                                        'min_impurity_decrease': (0.0, 0.1,\n",
       "                                                                  0.2),\n",
       "                                        'min_samples_leaf': (1, 2, 3),\n",
       "                                        'min_samples_split': (2, 3, 4),\n",
       "                                        'min_weight_fraction_leaf': (0.0, 0.1,\n",
       "                                                                     0.2),\n",
       "                                        'n_estimators': (80, 100, 120),\n",
       "                                        'n_jobs': [-1],\n",
       "                                        'random_state': [2022]},\n",
       "                   random_state=2022, scoring='neg_root_mean_squared_error')"
      ]
     },
     "execution_count": 90,
     "metadata": {},
     "output_type": "execute_result"
    }
   ],
   "source": [
    "model.fit(train_X, train_y)"
   ]
  },
  {
   "cell_type": "code",
   "execution_count": 91,
   "metadata": {},
   "outputs": [
    {
     "data": {
      "text/plain": [
       "{'random_state': 2022,\n",
       " 'n_jobs': -1,\n",
       " 'n_estimators': 100,\n",
       " 'min_weight_fraction_leaf': 0.2,\n",
       " 'min_samples_split': 2,\n",
       " 'min_samples_leaf': 3,\n",
       " 'min_impurity_decrease': 0.1,\n",
       " 'max_samples': None,\n",
       " 'max_leaf_nodes': None,\n",
       " 'max_features': None,\n",
       " 'max_depth': None,\n",
       " 'criterion': 'squared_error',\n",
       " 'ccp_alpha': 0.0}"
      ]
     },
     "execution_count": 91,
     "metadata": {},
     "output_type": "execute_result"
    }
   ],
   "source": [
    "model.best_params_"
   ]
  },
  {
   "cell_type": "code",
   "execution_count": 92,
   "metadata": {},
   "outputs": [],
   "source": [
    "preds_test = model.predict(test_X)\n",
    "preds_train = model.predict(train_X)"
   ]
  },
  {
   "cell_type": "code",
   "execution_count": 93,
   "metadata": {},
   "outputs": [
    {
     "data": {
      "text/plain": [
       "[377642.294, 614.526, 360.54, 430344.993, 656.007, 656.007]"
      ]
     },
     "execution_count": 93,
     "metadata": {},
     "output_type": "execute_result"
    }
   ],
   "source": [
    "evaluate_model(test=test_y, predictions_test=preds_test, train=train_y, predictions_train=preds_train)"
   ]
  },
  {
   "cell_type": "code",
   "execution_count": 55,
   "metadata": {},
   "outputs": [],
   "source": [
    "pickle.dump(model, open(r\"..\\data\\rf_all_features_1_week.pkl\", \"wb\" ))"
   ]
  },
  {
   "cell_type": "markdown",
   "metadata": {},
   "source": [
    "# RF, all features - Gridsearch Iteration 2"
   ]
  },
  {
   "cell_type": "code",
   "execution_count": 94,
   "metadata": {},
   "outputs": [],
   "source": [
    "from sklearn.model_selection import RandomizedSearchCV\n",
    "from sklearn.ensemble import RandomForestRegressor\n",
    "\n",
    "parameters = {  \n",
    "                'n_estimators':(120,160,200),\n",
    "                'criterion':(['poisson']),\n",
    "                'max_depth':([2]),\n",
    "                'min_samples_split':(4,5,6),\n",
    "                'min_samples_leaf':(3,4,5),\n",
    "                'min_weight_fraction_leaf':(0.05,0.1,0.15),\n",
    "                'max_features':([None]),\n",
    "                'max_leaf_nodes':(4,5,6,None),\n",
    "                'min_impurity_decrease':(0.0,0.05),\n",
    "                # 'bootstrap':(True,False),\n",
    "                # 'oob_score':(True,False),\n",
    "                'n_jobs':([-1]),\n",
    "                'random_state':([2022]),\n",
    "                'ccp_alpha':(0.0,0.05),\n",
    "                'max_samples':([None])\n",
    "                }\n",
    "\n",
    "rf = RandomForestRegressor()\n",
    "\n",
    "model = RandomizedSearchCV(rf, parameters, random_state=2022, scoring='neg_root_mean_squared_error')"
   ]
  },
  {
   "cell_type": "code",
   "execution_count": 95,
   "metadata": {},
   "outputs": [
    {
     "data": {
      "text/html": [
       "<style>#sk-container-id-11 {color: black;background-color: white;}#sk-container-id-11 pre{padding: 0;}#sk-container-id-11 div.sk-toggleable {background-color: white;}#sk-container-id-11 label.sk-toggleable__label {cursor: pointer;display: block;width: 100%;margin-bottom: 0;padding: 0.3em;box-sizing: border-box;text-align: center;}#sk-container-id-11 label.sk-toggleable__label-arrow:before {content: \"▸\";float: left;margin-right: 0.25em;color: #696969;}#sk-container-id-11 label.sk-toggleable__label-arrow:hover:before {color: black;}#sk-container-id-11 div.sk-estimator:hover label.sk-toggleable__label-arrow:before {color: black;}#sk-container-id-11 div.sk-toggleable__content {max-height: 0;max-width: 0;overflow: hidden;text-align: left;background-color: #f0f8ff;}#sk-container-id-11 div.sk-toggleable__content pre {margin: 0.2em;color: black;border-radius: 0.25em;background-color: #f0f8ff;}#sk-container-id-11 input.sk-toggleable__control:checked~div.sk-toggleable__content {max-height: 200px;max-width: 100%;overflow: auto;}#sk-container-id-11 input.sk-toggleable__control:checked~label.sk-toggleable__label-arrow:before {content: \"▾\";}#sk-container-id-11 div.sk-estimator input.sk-toggleable__control:checked~label.sk-toggleable__label {background-color: #d4ebff;}#sk-container-id-11 div.sk-label input.sk-toggleable__control:checked~label.sk-toggleable__label {background-color: #d4ebff;}#sk-container-id-11 input.sk-hidden--visually {border: 0;clip: rect(1px 1px 1px 1px);clip: rect(1px, 1px, 1px, 1px);height: 1px;margin: -1px;overflow: hidden;padding: 0;position: absolute;width: 1px;}#sk-container-id-11 div.sk-estimator {font-family: monospace;background-color: #f0f8ff;border: 1px dotted black;border-radius: 0.25em;box-sizing: border-box;margin-bottom: 0.5em;}#sk-container-id-11 div.sk-estimator:hover {background-color: #d4ebff;}#sk-container-id-11 div.sk-parallel-item::after {content: \"\";width: 100%;border-bottom: 1px solid gray;flex-grow: 1;}#sk-container-id-11 div.sk-label:hover label.sk-toggleable__label {background-color: #d4ebff;}#sk-container-id-11 div.sk-serial::before {content: \"\";position: absolute;border-left: 1px solid gray;box-sizing: border-box;top: 0;bottom: 0;left: 50%;z-index: 0;}#sk-container-id-11 div.sk-serial {display: flex;flex-direction: column;align-items: center;background-color: white;padding-right: 0.2em;padding-left: 0.2em;position: relative;}#sk-container-id-11 div.sk-item {position: relative;z-index: 1;}#sk-container-id-11 div.sk-parallel {display: flex;align-items: stretch;justify-content: center;background-color: white;position: relative;}#sk-container-id-11 div.sk-item::before, #sk-container-id-11 div.sk-parallel-item::before {content: \"\";position: absolute;border-left: 1px solid gray;box-sizing: border-box;top: 0;bottom: 0;left: 50%;z-index: -1;}#sk-container-id-11 div.sk-parallel-item {display: flex;flex-direction: column;z-index: 1;position: relative;background-color: white;}#sk-container-id-11 div.sk-parallel-item:first-child::after {align-self: flex-end;width: 50%;}#sk-container-id-11 div.sk-parallel-item:last-child::after {align-self: flex-start;width: 50%;}#sk-container-id-11 div.sk-parallel-item:only-child::after {width: 0;}#sk-container-id-11 div.sk-dashed-wrapped {border: 1px dashed gray;margin: 0 0.4em 0.5em 0.4em;box-sizing: border-box;padding-bottom: 0.4em;background-color: white;}#sk-container-id-11 div.sk-label label {font-family: monospace;font-weight: bold;display: inline-block;line-height: 1.2em;}#sk-container-id-11 div.sk-label-container {text-align: center;}#sk-container-id-11 div.sk-container {/* jupyter's `normalize.less` sets `[hidden] { display: none; }` but bootstrap.min.css set `[hidden] { display: none !important; }` so we also need the `!important` here to be able to override the default hidden behavior on the sphinx rendered scikit-learn.org. See: https://github.com/scikit-learn/scikit-learn/issues/21755 */display: inline-block !important;position: relative;}#sk-container-id-11 div.sk-text-repr-fallback {display: none;}</style><div id=\"sk-container-id-11\" class=\"sk-top-container\"><div class=\"sk-text-repr-fallback\"><pre>RandomizedSearchCV(estimator=RandomForestRegressor(),\n",
       "                   param_distributions={&#x27;ccp_alpha&#x27;: (0.0, 0.05),\n",
       "                                        &#x27;criterion&#x27;: [&#x27;poisson&#x27;],\n",
       "                                        &#x27;max_depth&#x27;: [2],\n",
       "                                        &#x27;max_features&#x27;: [None],\n",
       "                                        &#x27;max_leaf_nodes&#x27;: (4, 5, 6, None),\n",
       "                                        &#x27;max_samples&#x27;: [None],\n",
       "                                        &#x27;min_impurity_decrease&#x27;: (0.0, 0.05),\n",
       "                                        &#x27;min_samples_leaf&#x27;: (3, 4, 5),\n",
       "                                        &#x27;min_samples_split&#x27;: (4, 5, 6),\n",
       "                                        &#x27;min_weight_fraction_leaf&#x27;: (0.05, 0.1,\n",
       "                                                                     0.15),\n",
       "                                        &#x27;n_estimators&#x27;: (120, 160, 200),\n",
       "                                        &#x27;n_jobs&#x27;: [-1],\n",
       "                                        &#x27;random_state&#x27;: [2022]},\n",
       "                   random_state=2022, scoring=&#x27;neg_root_mean_squared_error&#x27;)</pre><b>In a Jupyter environment, please rerun this cell to show the HTML representation or trust the notebook. <br />On GitHub, the HTML representation is unable to render, please try loading this page with nbviewer.org.</b></div><div class=\"sk-container\" hidden><div class=\"sk-item sk-dashed-wrapped\"><div class=\"sk-label-container\"><div class=\"sk-label sk-toggleable\"><input class=\"sk-toggleable__control sk-hidden--visually\" id=\"sk-estimator-id-31\" type=\"checkbox\" ><label for=\"sk-estimator-id-31\" class=\"sk-toggleable__label sk-toggleable__label-arrow\">RandomizedSearchCV</label><div class=\"sk-toggleable__content\"><pre>RandomizedSearchCV(estimator=RandomForestRegressor(),\n",
       "                   param_distributions={&#x27;ccp_alpha&#x27;: (0.0, 0.05),\n",
       "                                        &#x27;criterion&#x27;: [&#x27;poisson&#x27;],\n",
       "                                        &#x27;max_depth&#x27;: [2],\n",
       "                                        &#x27;max_features&#x27;: [None],\n",
       "                                        &#x27;max_leaf_nodes&#x27;: (4, 5, 6, None),\n",
       "                                        &#x27;max_samples&#x27;: [None],\n",
       "                                        &#x27;min_impurity_decrease&#x27;: (0.0, 0.05),\n",
       "                                        &#x27;min_samples_leaf&#x27;: (3, 4, 5),\n",
       "                                        &#x27;min_samples_split&#x27;: (4, 5, 6),\n",
       "                                        &#x27;min_weight_fraction_leaf&#x27;: (0.05, 0.1,\n",
       "                                                                     0.15),\n",
       "                                        &#x27;n_estimators&#x27;: (120, 160, 200),\n",
       "                                        &#x27;n_jobs&#x27;: [-1],\n",
       "                                        &#x27;random_state&#x27;: [2022]},\n",
       "                   random_state=2022, scoring=&#x27;neg_root_mean_squared_error&#x27;)</pre></div></div></div><div class=\"sk-parallel\"><div class=\"sk-parallel-item\"><div class=\"sk-item\"><div class=\"sk-label-container\"><div class=\"sk-label sk-toggleable\"><input class=\"sk-toggleable__control sk-hidden--visually\" id=\"sk-estimator-id-32\" type=\"checkbox\" ><label for=\"sk-estimator-id-32\" class=\"sk-toggleable__label sk-toggleable__label-arrow\">estimator: RandomForestRegressor</label><div class=\"sk-toggleable__content\"><pre>RandomForestRegressor()</pre></div></div></div><div class=\"sk-serial\"><div class=\"sk-item\"><div class=\"sk-estimator sk-toggleable\"><input class=\"sk-toggleable__control sk-hidden--visually\" id=\"sk-estimator-id-33\" type=\"checkbox\" ><label for=\"sk-estimator-id-33\" class=\"sk-toggleable__label sk-toggleable__label-arrow\">RandomForestRegressor</label><div class=\"sk-toggleable__content\"><pre>RandomForestRegressor()</pre></div></div></div></div></div></div></div></div></div></div>"
      ],
      "text/plain": [
       "RandomizedSearchCV(estimator=RandomForestRegressor(),\n",
       "                   param_distributions={'ccp_alpha': (0.0, 0.05),\n",
       "                                        'criterion': ['poisson'],\n",
       "                                        'max_depth': [2],\n",
       "                                        'max_features': [None],\n",
       "                                        'max_leaf_nodes': (4, 5, 6, None),\n",
       "                                        'max_samples': [None],\n",
       "                                        'min_impurity_decrease': (0.0, 0.05),\n",
       "                                        'min_samples_leaf': (3, 4, 5),\n",
       "                                        'min_samples_split': (4, 5, 6),\n",
       "                                        'min_weight_fraction_leaf': (0.05, 0.1,\n",
       "                                                                     0.15),\n",
       "                                        'n_estimators': (120, 160, 200),\n",
       "                                        'n_jobs': [-1],\n",
       "                                        'random_state': [2022]},\n",
       "                   random_state=2022, scoring='neg_root_mean_squared_error')"
      ]
     },
     "execution_count": 95,
     "metadata": {},
     "output_type": "execute_result"
    }
   ],
   "source": [
    "model.fit(train_X, train_y)"
   ]
  },
  {
   "cell_type": "code",
   "execution_count": 96,
   "metadata": {},
   "outputs": [
    {
     "data": {
      "text/plain": [
       "{'random_state': 2022,\n",
       " 'n_jobs': -1,\n",
       " 'n_estimators': 200,\n",
       " 'min_weight_fraction_leaf': 0.05,\n",
       " 'min_samples_split': 4,\n",
       " 'min_samples_leaf': 4,\n",
       " 'min_impurity_decrease': 0.05,\n",
       " 'max_samples': None,\n",
       " 'max_leaf_nodes': None,\n",
       " 'max_features': None,\n",
       " 'max_depth': 2,\n",
       " 'criterion': 'poisson',\n",
       " 'ccp_alpha': 0.05}"
      ]
     },
     "execution_count": 96,
     "metadata": {},
     "output_type": "execute_result"
    }
   ],
   "source": [
    "model.best_params_"
   ]
  },
  {
   "cell_type": "code",
   "execution_count": 97,
   "metadata": {},
   "outputs": [],
   "source": [
    "preds_test = model.predict(test_X)\n",
    "preds_train = model.predict(train_X)"
   ]
  },
  {
   "cell_type": "code",
   "execution_count": 98,
   "metadata": {},
   "outputs": [
    {
     "data": {
      "text/plain": [
       "[153844.097, 392.23, 242.355, 283000.657, 531.978, 531.978]"
      ]
     },
     "execution_count": 98,
     "metadata": {},
     "output_type": "execute_result"
    }
   ],
   "source": [
    "evaluate_model(test=test_y, predictions_test=preds_test, train=train_y, predictions_train=preds_train)"
   ]
  },
  {
   "cell_type": "code",
   "execution_count": 61,
   "metadata": {},
   "outputs": [],
   "source": [
    "pickle.dump(model, open(r\"..\\data\\rf_all_features_1_week.pkl\", \"wb\" ))"
   ]
  },
  {
   "cell_type": "markdown",
   "metadata": {},
   "source": [
    "# RF, all features - Gridsearch Iteration 3 - Best One"
   ]
  },
  {
   "cell_type": "markdown",
   "metadata": {},
   "source": [
    "### 1 week"
   ]
  },
  {
   "cell_type": "code",
   "execution_count": 99,
   "metadata": {},
   "outputs": [],
   "source": [
    "from sklearn.model_selection import RandomizedSearchCV\n",
    "from sklearn.ensemble import RandomForestRegressor\n",
    "\n",
    "parameters = {  \n",
    "                'n_estimators':(200,220,240),\n",
    "                'criterion':(['poisson']),\n",
    "                'max_depth':([2]),\n",
    "                'min_samples_split':([5]),\n",
    "                'min_samples_leaf':([3]),\n",
    "                'min_weight_fraction_leaf':(0.03,0.05,0.08),\n",
    "                'max_features':([None]),\n",
    "                'max_leaf_nodes':([4]),\n",
    "                'min_impurity_decrease':(0.03,0.05,0.08),\n",
    "                'n_jobs':([-1]),\n",
    "                'random_state':([2022]),\n",
    "                'ccp_alpha':(0.03,0.05,0.08),\n",
    "                'max_samples':([None])\n",
    "                }\n",
    "\n",
    "rf = RandomForestRegressor()\n",
    "\n",
    "model = RandomizedSearchCV(rf, parameters, random_state=2022, scoring='neg_root_mean_squared_error')"
   ]
  },
  {
   "cell_type": "code",
   "execution_count": 100,
   "metadata": {},
   "outputs": [
    {
     "data": {
      "text/html": [
       "<style>#sk-container-id-12 {color: black;background-color: white;}#sk-container-id-12 pre{padding: 0;}#sk-container-id-12 div.sk-toggleable {background-color: white;}#sk-container-id-12 label.sk-toggleable__label {cursor: pointer;display: block;width: 100%;margin-bottom: 0;padding: 0.3em;box-sizing: border-box;text-align: center;}#sk-container-id-12 label.sk-toggleable__label-arrow:before {content: \"▸\";float: left;margin-right: 0.25em;color: #696969;}#sk-container-id-12 label.sk-toggleable__label-arrow:hover:before {color: black;}#sk-container-id-12 div.sk-estimator:hover label.sk-toggleable__label-arrow:before {color: black;}#sk-container-id-12 div.sk-toggleable__content {max-height: 0;max-width: 0;overflow: hidden;text-align: left;background-color: #f0f8ff;}#sk-container-id-12 div.sk-toggleable__content pre {margin: 0.2em;color: black;border-radius: 0.25em;background-color: #f0f8ff;}#sk-container-id-12 input.sk-toggleable__control:checked~div.sk-toggleable__content {max-height: 200px;max-width: 100%;overflow: auto;}#sk-container-id-12 input.sk-toggleable__control:checked~label.sk-toggleable__label-arrow:before {content: \"▾\";}#sk-container-id-12 div.sk-estimator input.sk-toggleable__control:checked~label.sk-toggleable__label {background-color: #d4ebff;}#sk-container-id-12 div.sk-label input.sk-toggleable__control:checked~label.sk-toggleable__label {background-color: #d4ebff;}#sk-container-id-12 input.sk-hidden--visually {border: 0;clip: rect(1px 1px 1px 1px);clip: rect(1px, 1px, 1px, 1px);height: 1px;margin: -1px;overflow: hidden;padding: 0;position: absolute;width: 1px;}#sk-container-id-12 div.sk-estimator {font-family: monospace;background-color: #f0f8ff;border: 1px dotted black;border-radius: 0.25em;box-sizing: border-box;margin-bottom: 0.5em;}#sk-container-id-12 div.sk-estimator:hover {background-color: #d4ebff;}#sk-container-id-12 div.sk-parallel-item::after {content: \"\";width: 100%;border-bottom: 1px solid gray;flex-grow: 1;}#sk-container-id-12 div.sk-label:hover label.sk-toggleable__label {background-color: #d4ebff;}#sk-container-id-12 div.sk-serial::before {content: \"\";position: absolute;border-left: 1px solid gray;box-sizing: border-box;top: 0;bottom: 0;left: 50%;z-index: 0;}#sk-container-id-12 div.sk-serial {display: flex;flex-direction: column;align-items: center;background-color: white;padding-right: 0.2em;padding-left: 0.2em;position: relative;}#sk-container-id-12 div.sk-item {position: relative;z-index: 1;}#sk-container-id-12 div.sk-parallel {display: flex;align-items: stretch;justify-content: center;background-color: white;position: relative;}#sk-container-id-12 div.sk-item::before, #sk-container-id-12 div.sk-parallel-item::before {content: \"\";position: absolute;border-left: 1px solid gray;box-sizing: border-box;top: 0;bottom: 0;left: 50%;z-index: -1;}#sk-container-id-12 div.sk-parallel-item {display: flex;flex-direction: column;z-index: 1;position: relative;background-color: white;}#sk-container-id-12 div.sk-parallel-item:first-child::after {align-self: flex-end;width: 50%;}#sk-container-id-12 div.sk-parallel-item:last-child::after {align-self: flex-start;width: 50%;}#sk-container-id-12 div.sk-parallel-item:only-child::after {width: 0;}#sk-container-id-12 div.sk-dashed-wrapped {border: 1px dashed gray;margin: 0 0.4em 0.5em 0.4em;box-sizing: border-box;padding-bottom: 0.4em;background-color: white;}#sk-container-id-12 div.sk-label label {font-family: monospace;font-weight: bold;display: inline-block;line-height: 1.2em;}#sk-container-id-12 div.sk-label-container {text-align: center;}#sk-container-id-12 div.sk-container {/* jupyter's `normalize.less` sets `[hidden] { display: none; }` but bootstrap.min.css set `[hidden] { display: none !important; }` so we also need the `!important` here to be able to override the default hidden behavior on the sphinx rendered scikit-learn.org. See: https://github.com/scikit-learn/scikit-learn/issues/21755 */display: inline-block !important;position: relative;}#sk-container-id-12 div.sk-text-repr-fallback {display: none;}</style><div id=\"sk-container-id-12\" class=\"sk-top-container\"><div class=\"sk-text-repr-fallback\"><pre>RandomizedSearchCV(estimator=RandomForestRegressor(),\n",
       "                   param_distributions={&#x27;ccp_alpha&#x27;: (0.03, 0.05, 0.08),\n",
       "                                        &#x27;criterion&#x27;: [&#x27;poisson&#x27;],\n",
       "                                        &#x27;max_depth&#x27;: [2],\n",
       "                                        &#x27;max_features&#x27;: [None],\n",
       "                                        &#x27;max_leaf_nodes&#x27;: [4],\n",
       "                                        &#x27;max_samples&#x27;: [None],\n",
       "                                        &#x27;min_impurity_decrease&#x27;: (0.03, 0.05,\n",
       "                                                                  0.08),\n",
       "                                        &#x27;min_samples_leaf&#x27;: [3],\n",
       "                                        &#x27;min_samples_split&#x27;: [5],\n",
       "                                        &#x27;min_weight_fraction_leaf&#x27;: (0.03, 0.05,\n",
       "                                                                     0.08),\n",
       "                                        &#x27;n_estimators&#x27;: (200, 220, 240),\n",
       "                                        &#x27;n_jobs&#x27;: [-1],\n",
       "                                        &#x27;random_state&#x27;: [2022]},\n",
       "                   random_state=2022, scoring=&#x27;neg_root_mean_squared_error&#x27;)</pre><b>In a Jupyter environment, please rerun this cell to show the HTML representation or trust the notebook. <br />On GitHub, the HTML representation is unable to render, please try loading this page with nbviewer.org.</b></div><div class=\"sk-container\" hidden><div class=\"sk-item sk-dashed-wrapped\"><div class=\"sk-label-container\"><div class=\"sk-label sk-toggleable\"><input class=\"sk-toggleable__control sk-hidden--visually\" id=\"sk-estimator-id-34\" type=\"checkbox\" ><label for=\"sk-estimator-id-34\" class=\"sk-toggleable__label sk-toggleable__label-arrow\">RandomizedSearchCV</label><div class=\"sk-toggleable__content\"><pre>RandomizedSearchCV(estimator=RandomForestRegressor(),\n",
       "                   param_distributions={&#x27;ccp_alpha&#x27;: (0.03, 0.05, 0.08),\n",
       "                                        &#x27;criterion&#x27;: [&#x27;poisson&#x27;],\n",
       "                                        &#x27;max_depth&#x27;: [2],\n",
       "                                        &#x27;max_features&#x27;: [None],\n",
       "                                        &#x27;max_leaf_nodes&#x27;: [4],\n",
       "                                        &#x27;max_samples&#x27;: [None],\n",
       "                                        &#x27;min_impurity_decrease&#x27;: (0.03, 0.05,\n",
       "                                                                  0.08),\n",
       "                                        &#x27;min_samples_leaf&#x27;: [3],\n",
       "                                        &#x27;min_samples_split&#x27;: [5],\n",
       "                                        &#x27;min_weight_fraction_leaf&#x27;: (0.03, 0.05,\n",
       "                                                                     0.08),\n",
       "                                        &#x27;n_estimators&#x27;: (200, 220, 240),\n",
       "                                        &#x27;n_jobs&#x27;: [-1],\n",
       "                                        &#x27;random_state&#x27;: [2022]},\n",
       "                   random_state=2022, scoring=&#x27;neg_root_mean_squared_error&#x27;)</pre></div></div></div><div class=\"sk-parallel\"><div class=\"sk-parallel-item\"><div class=\"sk-item\"><div class=\"sk-label-container\"><div class=\"sk-label sk-toggleable\"><input class=\"sk-toggleable__control sk-hidden--visually\" id=\"sk-estimator-id-35\" type=\"checkbox\" ><label for=\"sk-estimator-id-35\" class=\"sk-toggleable__label sk-toggleable__label-arrow\">estimator: RandomForestRegressor</label><div class=\"sk-toggleable__content\"><pre>RandomForestRegressor()</pre></div></div></div><div class=\"sk-serial\"><div class=\"sk-item\"><div class=\"sk-estimator sk-toggleable\"><input class=\"sk-toggleable__control sk-hidden--visually\" id=\"sk-estimator-id-36\" type=\"checkbox\" ><label for=\"sk-estimator-id-36\" class=\"sk-toggleable__label sk-toggleable__label-arrow\">RandomForestRegressor</label><div class=\"sk-toggleable__content\"><pre>RandomForestRegressor()</pre></div></div></div></div></div></div></div></div></div></div>"
      ],
      "text/plain": [
       "RandomizedSearchCV(estimator=RandomForestRegressor(),\n",
       "                   param_distributions={'ccp_alpha': (0.03, 0.05, 0.08),\n",
       "                                        'criterion': ['poisson'],\n",
       "                                        'max_depth': [2],\n",
       "                                        'max_features': [None],\n",
       "                                        'max_leaf_nodes': [4],\n",
       "                                        'max_samples': [None],\n",
       "                                        'min_impurity_decrease': (0.03, 0.05,\n",
       "                                                                  0.08),\n",
       "                                        'min_samples_leaf': [3],\n",
       "                                        'min_samples_split': [5],\n",
       "                                        'min_weight_fraction_leaf': (0.03, 0.05,\n",
       "                                                                     0.08),\n",
       "                                        'n_estimators': (200, 220, 240),\n",
       "                                        'n_jobs': [-1],\n",
       "                                        'random_state': [2022]},\n",
       "                   random_state=2022, scoring='neg_root_mean_squared_error')"
      ]
     },
     "execution_count": 100,
     "metadata": {},
     "output_type": "execute_result"
    }
   ],
   "source": [
    "model.fit(train_X, train_y)"
   ]
  },
  {
   "cell_type": "code",
   "execution_count": 101,
   "metadata": {},
   "outputs": [
    {
     "data": {
      "text/plain": [
       "{'random_state': 2022,\n",
       " 'n_jobs': -1,\n",
       " 'n_estimators': 240,\n",
       " 'min_weight_fraction_leaf': 0.08,\n",
       " 'min_samples_split': 5,\n",
       " 'min_samples_leaf': 3,\n",
       " 'min_impurity_decrease': 0.03,\n",
       " 'max_samples': None,\n",
       " 'max_leaf_nodes': 4,\n",
       " 'max_features': None,\n",
       " 'max_depth': 2,\n",
       " 'criterion': 'poisson',\n",
       " 'ccp_alpha': 0.05}"
      ]
     },
     "execution_count": 101,
     "metadata": {},
     "output_type": "execute_result"
    }
   ],
   "source": [
    "model.best_params_"
   ]
  },
  {
   "cell_type": "code",
   "execution_count": 102,
   "metadata": {},
   "outputs": [],
   "source": [
    "preds_test = model.predict(test_X)\n",
    "preds_train = model.predict(train_X)"
   ]
  },
  {
   "cell_type": "code",
   "execution_count": 103,
   "metadata": {},
   "outputs": [
    {
     "data": {
      "text/plain": [
       "[154415.92, 392.958, 242.746, 199913.889, 447.117, 447.117]"
      ]
     },
     "execution_count": 103,
     "metadata": {},
     "output_type": "execute_result"
    }
   ],
   "source": [
    "evaluate_model(test=test_y, predictions_test=preds_test, train=train_y, predictions_train=preds_train)"
   ]
  },
  {
   "cell_type": "code",
   "execution_count": 104,
   "metadata": {},
   "outputs": [],
   "source": [
    "pickle.dump(model, open(r\"..\\data\\rf_all_features_1_week.pkl\", \"wb\" ))"
   ]
  },
  {
   "cell_type": "markdown",
   "metadata": {},
   "source": [
    "### 2 weeks"
   ]
  },
  {
   "cell_type": "code",
   "execution_count": 5,
   "metadata": {},
   "outputs": [
    {
     "name": "stdout",
     "output_type": "stream",
     "text": [
      "Shape of train_X: (155, 48)\n",
      "Shape of train_y: (155, 1)\n",
      "Shape of test_X: (2, 48)\n",
      "Shape of test_y: (2, 1)\n"
     ]
    }
   ],
   "source": [
    "# split into train and test\n",
    "X = df_pre_COVID_all_features.loc[:, df_pre_COVID_all_features.columns != 'Total Cases']\n",
    "y = df_pre_COVID_all_features['Total Cases']\n",
    "\n",
    "train_X = X.iloc[:-2].to_numpy()\n",
    "train_y = y.iloc[:-2].to_numpy().reshape(-1,1)\n",
    "test_X = X.iloc[-2:].to_numpy()\n",
    "test_y = np.asarray(y.iloc[-2:]).reshape(-1,1)\n",
    "\n",
    "print(f'Shape of train_X: {train_X.shape}')\n",
    "print(f'Shape of train_y: {train_y.shape}')\n",
    "print(f'Shape of test_X: {test_X.shape}')\n",
    "print(f'Shape of test_y: {test_y.shape}')"
   ]
  },
  {
   "cell_type": "code",
   "execution_count": 16,
   "metadata": {},
   "outputs": [],
   "source": [
    "# scale data\n",
    "from sklearn.preprocessing import StandardScaler\n",
    "scaler = StandardScaler()\n",
    "train_X = scaler.fit_transform(train_X)\n",
    "test_X = scaler.transform(test_X)"
   ]
  },
  {
   "cell_type": "code",
   "execution_count": 21,
   "metadata": {},
   "outputs": [
    {
     "data": {
      "text/html": [
       "<style>#sk-container-id-3 {color: black;background-color: white;}#sk-container-id-3 pre{padding: 0;}#sk-container-id-3 div.sk-toggleable {background-color: white;}#sk-container-id-3 label.sk-toggleable__label {cursor: pointer;display: block;width: 100%;margin-bottom: 0;padding: 0.3em;box-sizing: border-box;text-align: center;}#sk-container-id-3 label.sk-toggleable__label-arrow:before {content: \"▸\";float: left;margin-right: 0.25em;color: #696969;}#sk-container-id-3 label.sk-toggleable__label-arrow:hover:before {color: black;}#sk-container-id-3 div.sk-estimator:hover label.sk-toggleable__label-arrow:before {color: black;}#sk-container-id-3 div.sk-toggleable__content {max-height: 0;max-width: 0;overflow: hidden;text-align: left;background-color: #f0f8ff;}#sk-container-id-3 div.sk-toggleable__content pre {margin: 0.2em;color: black;border-radius: 0.25em;background-color: #f0f8ff;}#sk-container-id-3 input.sk-toggleable__control:checked~div.sk-toggleable__content {max-height: 200px;max-width: 100%;overflow: auto;}#sk-container-id-3 input.sk-toggleable__control:checked~label.sk-toggleable__label-arrow:before {content: \"▾\";}#sk-container-id-3 div.sk-estimator input.sk-toggleable__control:checked~label.sk-toggleable__label {background-color: #d4ebff;}#sk-container-id-3 div.sk-label input.sk-toggleable__control:checked~label.sk-toggleable__label {background-color: #d4ebff;}#sk-container-id-3 input.sk-hidden--visually {border: 0;clip: rect(1px 1px 1px 1px);clip: rect(1px, 1px, 1px, 1px);height: 1px;margin: -1px;overflow: hidden;padding: 0;position: absolute;width: 1px;}#sk-container-id-3 div.sk-estimator {font-family: monospace;background-color: #f0f8ff;border: 1px dotted black;border-radius: 0.25em;box-sizing: border-box;margin-bottom: 0.5em;}#sk-container-id-3 div.sk-estimator:hover {background-color: #d4ebff;}#sk-container-id-3 div.sk-parallel-item::after {content: \"\";width: 100%;border-bottom: 1px solid gray;flex-grow: 1;}#sk-container-id-3 div.sk-label:hover label.sk-toggleable__label {background-color: #d4ebff;}#sk-container-id-3 div.sk-serial::before {content: \"\";position: absolute;border-left: 1px solid gray;box-sizing: border-box;top: 0;bottom: 0;left: 50%;z-index: 0;}#sk-container-id-3 div.sk-serial {display: flex;flex-direction: column;align-items: center;background-color: white;padding-right: 0.2em;padding-left: 0.2em;position: relative;}#sk-container-id-3 div.sk-item {position: relative;z-index: 1;}#sk-container-id-3 div.sk-parallel {display: flex;align-items: stretch;justify-content: center;background-color: white;position: relative;}#sk-container-id-3 div.sk-item::before, #sk-container-id-3 div.sk-parallel-item::before {content: \"\";position: absolute;border-left: 1px solid gray;box-sizing: border-box;top: 0;bottom: 0;left: 50%;z-index: -1;}#sk-container-id-3 div.sk-parallel-item {display: flex;flex-direction: column;z-index: 1;position: relative;background-color: white;}#sk-container-id-3 div.sk-parallel-item:first-child::after {align-self: flex-end;width: 50%;}#sk-container-id-3 div.sk-parallel-item:last-child::after {align-self: flex-start;width: 50%;}#sk-container-id-3 div.sk-parallel-item:only-child::after {width: 0;}#sk-container-id-3 div.sk-dashed-wrapped {border: 1px dashed gray;margin: 0 0.4em 0.5em 0.4em;box-sizing: border-box;padding-bottom: 0.4em;background-color: white;}#sk-container-id-3 div.sk-label label {font-family: monospace;font-weight: bold;display: inline-block;line-height: 1.2em;}#sk-container-id-3 div.sk-label-container {text-align: center;}#sk-container-id-3 div.sk-container {/* jupyter's `normalize.less` sets `[hidden] { display: none; }` but bootstrap.min.css set `[hidden] { display: none !important; }` so we also need the `!important` here to be able to override the default hidden behavior on the sphinx rendered scikit-learn.org. See: https://github.com/scikit-learn/scikit-learn/issues/21755 */display: inline-block !important;position: relative;}#sk-container-id-3 div.sk-text-repr-fallback {display: none;}</style><div id=\"sk-container-id-3\" class=\"sk-top-container\"><div class=\"sk-text-repr-fallback\"><pre>RandomForestRegressor(ccp_alpha=0.05, max_depth=2, max_features=None,\n",
       "                      max_leaf_nodes=4, min_impurity_decrease=0.03,\n",
       "                      min_samples_leaf=3, min_samples_split=5,\n",
       "                      min_weight_fraction_leaf=0.08, n_estimators=240,\n",
       "                      random_state=2022)</pre><b>In a Jupyter environment, please rerun this cell to show the HTML representation or trust the notebook. <br />On GitHub, the HTML representation is unable to render, please try loading this page with nbviewer.org.</b></div><div class=\"sk-container\" hidden><div class=\"sk-item\"><div class=\"sk-estimator sk-toggleable\"><input class=\"sk-toggleable__control sk-hidden--visually\" id=\"sk-estimator-id-3\" type=\"checkbox\" checked><label for=\"sk-estimator-id-3\" class=\"sk-toggleable__label sk-toggleable__label-arrow\">RandomForestRegressor</label><div class=\"sk-toggleable__content\"><pre>RandomForestRegressor(ccp_alpha=0.05, max_depth=2, max_features=None,\n",
       "                      max_leaf_nodes=4, min_impurity_decrease=0.03,\n",
       "                      min_samples_leaf=3, min_samples_split=5,\n",
       "                      min_weight_fraction_leaf=0.08, n_estimators=240,\n",
       "                      random_state=2022)</pre></div></div></div></div></div>"
      ],
      "text/plain": [
       "RandomForestRegressor(ccp_alpha=0.05, max_depth=2, max_features=None,\n",
       "                      max_leaf_nodes=4, min_impurity_decrease=0.03,\n",
       "                      min_samples_leaf=3, min_samples_split=5,\n",
       "                      min_weight_fraction_leaf=0.08, n_estimators=240,\n",
       "                      random_state=2022)"
      ]
     },
     "execution_count": 21,
     "metadata": {},
     "output_type": "execute_result"
    }
   ],
   "source": [
    "from sklearn.ensemble import RandomForestRegressor\n",
    "\n",
    "model = RandomForestRegressor(n_estimators=240, criterion='squared_error', max_depth=2, min_samples_split=5, min_samples_leaf=3, min_weight_fraction_leaf=0.08, max_features=None, max_leaf_nodes=4, min_impurity_decrease=0.03, bootstrap=True, oob_score=False, n_jobs=None, random_state=2022, verbose=0, warm_start=False, ccp_alpha=0.05, max_samples=None)\n",
    "model.fit(train_X, train_y.ravel())"
   ]
  },
  {
   "cell_type": "code",
   "execution_count": 22,
   "metadata": {},
   "outputs": [],
   "source": [
    "preds_test = model.predict(test_X)\n",
    "preds_train = model.predict(train_X)"
   ]
  },
  {
   "cell_type": "code",
   "execution_count": 23,
   "metadata": {},
   "outputs": [
    {
     "data": {
      "text/plain": [
       "[139454.467, 373.436, 245.23, 273882.207, 523.338, 521.807]"
      ]
     },
     "execution_count": 23,
     "metadata": {},
     "output_type": "execute_result"
    }
   ],
   "source": [
    "evaluate_model(test=test_y, predictions_test=preds_test, train=train_y, predictions_train=preds_train)"
   ]
  },
  {
   "cell_type": "code",
   "execution_count": 24,
   "metadata": {},
   "outputs": [],
   "source": [
    "pickle.dump(model, open(r\"..\\data\\rf_all_features_2_week.pkl\", \"wb\" ))"
   ]
  },
  {
   "cell_type": "code",
   "execution_count": 25,
   "metadata": {},
   "outputs": [
    {
     "data": {
      "text/plain": [
       "[<matplotlib.lines.Line2D at 0x18c73df1880>]"
      ]
     },
     "execution_count": 25,
     "metadata": {},
     "output_type": "execute_result"
    },
    {
     "data": {
      "image/png": "[encoded data removed]",
      "text/plain": [
       "<Figure size 2000x1000 with 1 Axes>"
      ]
     },
     "metadata": {},
     "output_type": "display_data"
    }
   ],
   "source": [
    "plt.plot(df_pre_COVID_all_features.index, df_pre_COVID_all_features['Total Cases'].values)\n",
    "plt.plot(df_pre_COVID_all_features.index[-2:], preds_test, color='red')"
   ]
  },
  {
   "cell_type": "markdown",
   "metadata": {},
   "source": [
    "### 3 weeks"
   ]
  },
  {
   "cell_type": "code",
   "execution_count": 26,
   "metadata": {},
   "outputs": [
    {
     "name": "stdout",
     "output_type": "stream",
     "text": [
      "Shape of train_X: (154, 48)\n",
      "Shape of train_y: (154, 1)\n",
      "Shape of test_X: (3, 48)\n",
      "Shape of test_y: (3, 1)\n"
     ]
    }
   ],
   "source": [
    "# split into train and test\n",
    "X = df_pre_COVID_all_features.loc[:, df_pre_COVID_all_features.columns != 'Total Cases']\n",
    "y = df_pre_COVID_all_features['Total Cases']\n",
    "\n",
    "train_X = X.iloc[:-3].to_numpy()\n",
    "train_y = y.iloc[:-3].to_numpy().reshape(-1,1)\n",
    "test_X = X.iloc[-3:].to_numpy()\n",
    "test_y = np.asarray(y.iloc[-3:]).reshape(-1,1)\n",
    "\n",
    "print(f'Shape of train_X: {train_X.shape}')\n",
    "print(f'Shape of train_y: {train_y.shape}')\n",
    "print(f'Shape of test_X: {test_X.shape}')\n",
    "print(f'Shape of test_y: {test_y.shape}')"
   ]
  },
  {
   "cell_type": "code",
   "execution_count": 27,
   "metadata": {},
   "outputs": [],
   "source": [
    "# scale data\n",
    "from sklearn.preprocessing import StandardScaler\n",
    "scaler = StandardScaler()\n",
    "train_X = scaler.fit_transform(train_X)\n",
    "test_X = scaler.transform(test_X)"
   ]
  },
  {
   "cell_type": "code",
   "execution_count": 28,
   "metadata": {},
   "outputs": [
    {
     "data": {
      "text/html": [
       "<style>#sk-container-id-4 {color: black;background-color: white;}#sk-container-id-4 pre{padding: 0;}#sk-container-id-4 div.sk-toggleable {background-color: white;}#sk-container-id-4 label.sk-toggleable__label {cursor: pointer;display: block;width: 100%;margin-bottom: 0;padding: 0.3em;box-sizing: border-box;text-align: center;}#sk-container-id-4 label.sk-toggleable__label-arrow:before {content: \"▸\";float: left;margin-right: 0.25em;color: #696969;}#sk-container-id-4 label.sk-toggleable__label-arrow:hover:before {color: black;}#sk-container-id-4 div.sk-estimator:hover label.sk-toggleable__label-arrow:before {color: black;}#sk-container-id-4 div.sk-toggleable__content {max-height: 0;max-width: 0;overflow: hidden;text-align: left;background-color: #f0f8ff;}#sk-container-id-4 div.sk-toggleable__content pre {margin: 0.2em;color: black;border-radius: 0.25em;background-color: #f0f8ff;}#sk-container-id-4 input.sk-toggleable__control:checked~div.sk-toggleable__content {max-height: 200px;max-width: 100%;overflow: auto;}#sk-container-id-4 input.sk-toggleable__control:checked~label.sk-toggleable__label-arrow:before {content: \"▾\";}#sk-container-id-4 div.sk-estimator input.sk-toggleable__control:checked~label.sk-toggleable__label {background-color: #d4ebff;}#sk-container-id-4 div.sk-label input.sk-toggleable__control:checked~label.sk-toggleable__label {background-color: #d4ebff;}#sk-container-id-4 input.sk-hidden--visually {border: 0;clip: rect(1px 1px 1px 1px);clip: rect(1px, 1px, 1px, 1px);height: 1px;margin: -1px;overflow: hidden;padding: 0;position: absolute;width: 1px;}#sk-container-id-4 div.sk-estimator {font-family: monospace;background-color: #f0f8ff;border: 1px dotted black;border-radius: 0.25em;box-sizing: border-box;margin-bottom: 0.5em;}#sk-container-id-4 div.sk-estimator:hover {background-color: #d4ebff;}#sk-container-id-4 div.sk-parallel-item::after {content: \"\";width: 100%;border-bottom: 1px solid gray;flex-grow: 1;}#sk-container-id-4 div.sk-label:hover label.sk-toggleable__label {background-color: #d4ebff;}#sk-container-id-4 div.sk-serial::before {content: \"\";position: absolute;border-left: 1px solid gray;box-sizing: border-box;top: 0;bottom: 0;left: 50%;z-index: 0;}#sk-container-id-4 div.sk-serial {display: flex;flex-direction: column;align-items: center;background-color: white;padding-right: 0.2em;padding-left: 0.2em;position: relative;}#sk-container-id-4 div.sk-item {position: relative;z-index: 1;}#sk-container-id-4 div.sk-parallel {display: flex;align-items: stretch;justify-content: center;background-color: white;position: relative;}#sk-container-id-4 div.sk-item::before, #sk-container-id-4 div.sk-parallel-item::before {content: \"\";position: absolute;border-left: 1px solid gray;box-sizing: border-box;top: 0;bottom: 0;left: 50%;z-index: -1;}#sk-container-id-4 div.sk-parallel-item {display: flex;flex-direction: column;z-index: 1;position: relative;background-color: white;}#sk-container-id-4 div.sk-parallel-item:first-child::after {align-self: flex-end;width: 50%;}#sk-container-id-4 div.sk-parallel-item:last-child::after {align-self: flex-start;width: 50%;}#sk-container-id-4 div.sk-parallel-item:only-child::after {width: 0;}#sk-container-id-4 div.sk-dashed-wrapped {border: 1px dashed gray;margin: 0 0.4em 0.5em 0.4em;box-sizing: border-box;padding-bottom: 0.4em;background-color: white;}#sk-container-id-4 div.sk-label label {font-family: monospace;font-weight: bold;display: inline-block;line-height: 1.2em;}#sk-container-id-4 div.sk-label-container {text-align: center;}#sk-container-id-4 div.sk-container {/* jupyter's `normalize.less` sets `[hidden] { display: none; }` but bootstrap.min.css set `[hidden] { display: none !important; }` so we also need the `!important` here to be able to override the default hidden behavior on the sphinx rendered scikit-learn.org. See: https://github.com/scikit-learn/scikit-learn/issues/21755 */display: inline-block !important;position: relative;}#sk-container-id-4 div.sk-text-repr-fallback {display: none;}</style><div id=\"sk-container-id-4\" class=\"sk-top-container\"><div class=\"sk-text-repr-fallback\"><pre>RandomForestRegressor(ccp_alpha=0.05, max_depth=2, max_features=None,\n",
       "                      max_leaf_nodes=4, min_impurity_decrease=0.03,\n",
       "                      min_samples_leaf=3, min_samples_split=5,\n",
       "                      min_weight_fraction_leaf=0.08, n_estimators=240,\n",
       "                      random_state=2022)</pre><b>In a Jupyter environment, please rerun this cell to show the HTML representation or trust the notebook. <br />On GitHub, the HTML representation is unable to render, please try loading this page with nbviewer.org.</b></div><div class=\"sk-container\" hidden><div class=\"sk-item\"><div class=\"sk-estimator sk-toggleable\"><input class=\"sk-toggleable__control sk-hidden--visually\" id=\"sk-estimator-id-4\" type=\"checkbox\" checked><label for=\"sk-estimator-id-4\" class=\"sk-toggleable__label sk-toggleable__label-arrow\">RandomForestRegressor</label><div class=\"sk-toggleable__content\"><pre>RandomForestRegressor(ccp_alpha=0.05, max_depth=2, max_features=None,\n",
       "                      max_leaf_nodes=4, min_impurity_decrease=0.03,\n",
       "                      min_samples_leaf=3, min_samples_split=5,\n",
       "                      min_weight_fraction_leaf=0.08, n_estimators=240,\n",
       "                      random_state=2022)</pre></div></div></div></div></div>"
      ],
      "text/plain": [
       "RandomForestRegressor(ccp_alpha=0.05, max_depth=2, max_features=None,\n",
       "                      max_leaf_nodes=4, min_impurity_decrease=0.03,\n",
       "                      min_samples_leaf=3, min_samples_split=5,\n",
       "                      min_weight_fraction_leaf=0.08, n_estimators=240,\n",
       "                      random_state=2022)"
      ]
     },
     "execution_count": 28,
     "metadata": {},
     "output_type": "execute_result"
    }
   ],
   "source": [
    "from sklearn.ensemble import RandomForestRegressor\n",
    "\n",
    "model = RandomForestRegressor(n_estimators=240, criterion='squared_error', max_depth=2, min_samples_split=5, min_samples_leaf=3, min_weight_fraction_leaf=0.08, max_features=None, max_leaf_nodes=4, min_impurity_decrease=0.03, bootstrap=True, oob_score=False, n_jobs=None, random_state=2022, verbose=0, warm_start=False, ccp_alpha=0.05, max_samples=None)\n",
    "model.fit(train_X, train_y.ravel())"
   ]
  },
  {
   "cell_type": "code",
   "execution_count": 29,
   "metadata": {},
   "outputs": [],
   "source": [
    "preds_test = model.predict(test_X)\n",
    "preds_train = model.predict(train_X)"
   ]
  },
  {
   "cell_type": "code",
   "execution_count": 30,
   "metadata": {},
   "outputs": [
    {
     "data": {
      "text/plain": [
       "[140939.734, 375.419, 247.003, 148658.357, 385.562, 341.576]"
      ]
     },
     "execution_count": 30,
     "metadata": {},
     "output_type": "execute_result"
    }
   ],
   "source": [
    "evaluate_model(test=test_y, predictions_test=preds_test, train=train_y, predictions_train=preds_train)"
   ]
  },
  {
   "cell_type": "code",
   "execution_count": 31,
   "metadata": {},
   "outputs": [],
   "source": [
    "pickle.dump(model, open(r\"..\\data\\rf_all_features_3_week.pkl\", \"wb\" ))"
   ]
  },
  {
   "cell_type": "code",
   "execution_count": 32,
   "metadata": {},
   "outputs": [
    {
     "data": {
      "text/plain": [
       "[<matplotlib.lines.Line2D at 0x18c73ecbfa0>]"
      ]
     },
     "execution_count": 32,
     "metadata": {},
     "output_type": "execute_result"
    },
    {
     "data": {
      "image/png": "[encoded data removed]",
      "text/plain": [
       "<Figure size 2000x1000 with 1 Axes>"
      ]
     },
     "metadata": {},
     "output_type": "display_data"
    }
   ],
   "source": [
    "plt.plot(df_pre_COVID_all_features.index, df_pre_COVID_all_features['Total Cases'].values)\n",
    "plt.plot(df_pre_COVID_all_features.index[-3:], preds_test, color='red')"
   ]
  },
  {
   "cell_type": "markdown",
   "metadata": {},
   "source": [
    "### 4 weeks"
   ]
  },
  {
   "cell_type": "code",
   "execution_count": 33,
   "metadata": {},
   "outputs": [
    {
     "name": "stdout",
     "output_type": "stream",
     "text": [
      "Shape of train_X: (153, 48)\n",
      "Shape of train_y: (153, 1)\n",
      "Shape of test_X: (4, 48)\n",
      "Shape of test_y: (4, 1)\n"
     ]
    }
   ],
   "source": [
    "# split into train and test\n",
    "X = df_pre_COVID_all_features.loc[:, df_pre_COVID_all_features.columns != 'Total Cases']\n",
    "y = df_pre_COVID_all_features['Total Cases']\n",
    "\n",
    "train_X = X.iloc[:-4].to_numpy()\n",
    "train_y = y.iloc[:-4].to_numpy().reshape(-1,1)\n",
    "test_X = X.iloc[-4:].to_numpy()\n",
    "test_y = np.asarray(y.iloc[-4:]).reshape(-1,1)\n",
    "\n",
    "print(f'Shape of train_X: {train_X.shape}')\n",
    "print(f'Shape of train_y: {train_y.shape}')\n",
    "print(f'Shape of test_X: {test_X.shape}')\n",
    "print(f'Shape of test_y: {test_y.shape}')"
   ]
  },
  {
   "cell_type": "code",
   "execution_count": 34,
   "metadata": {},
   "outputs": [],
   "source": [
    "# scale data\n",
    "from sklearn.preprocessing import StandardScaler\n",
    "scaler = StandardScaler()\n",
    "train_X = scaler.fit_transform(train_X)\n",
    "test_X = scaler.transform(test_X)"
   ]
  },
  {
   "cell_type": "code",
   "execution_count": 35,
   "metadata": {},
   "outputs": [
    {
     "data": {
      "text/html": [
       "<style>#sk-container-id-5 {color: black;background-color: white;}#sk-container-id-5 pre{padding: 0;}#sk-container-id-5 div.sk-toggleable {background-color: white;}#sk-container-id-5 label.sk-toggleable__label {cursor: pointer;display: block;width: 100%;margin-bottom: 0;padding: 0.3em;box-sizing: border-box;text-align: center;}#sk-container-id-5 label.sk-toggleable__label-arrow:before {content: \"▸\";float: left;margin-right: 0.25em;color: #696969;}#sk-container-id-5 label.sk-toggleable__label-arrow:hover:before {color: black;}#sk-container-id-5 div.sk-estimator:hover label.sk-toggleable__label-arrow:before {color: black;}#sk-container-id-5 div.sk-toggleable__content {max-height: 0;max-width: 0;overflow: hidden;text-align: left;background-color: #f0f8ff;}#sk-container-id-5 div.sk-toggleable__content pre {margin: 0.2em;color: black;border-radius: 0.25em;background-color: #f0f8ff;}#sk-container-id-5 input.sk-toggleable__control:checked~div.sk-toggleable__content {max-height: 200px;max-width: 100%;overflow: auto;}#sk-container-id-5 input.sk-toggleable__control:checked~label.sk-toggleable__label-arrow:before {content: \"▾\";}#sk-container-id-5 div.sk-estimator input.sk-toggleable__control:checked~label.sk-toggleable__label {background-color: #d4ebff;}#sk-container-id-5 div.sk-label input.sk-toggleable__control:checked~label.sk-toggleable__label {background-color: #d4ebff;}#sk-container-id-5 input.sk-hidden--visually {border: 0;clip: rect(1px 1px 1px 1px);clip: rect(1px, 1px, 1px, 1px);height: 1px;margin: -1px;overflow: hidden;padding: 0;position: absolute;width: 1px;}#sk-container-id-5 div.sk-estimator {font-family: monospace;background-color: #f0f8ff;border: 1px dotted black;border-radius: 0.25em;box-sizing: border-box;margin-bottom: 0.5em;}#sk-container-id-5 div.sk-estimator:hover {background-color: #d4ebff;}#sk-container-id-5 div.sk-parallel-item::after {content: \"\";width: 100%;border-bottom: 1px solid gray;flex-grow: 1;}#sk-container-id-5 div.sk-label:hover label.sk-toggleable__label {background-color: #d4ebff;}#sk-container-id-5 div.sk-serial::before {content: \"\";position: absolute;border-left: 1px solid gray;box-sizing: border-box;top: 0;bottom: 0;left: 50%;z-index: 0;}#sk-container-id-5 div.sk-serial {display: flex;flex-direction: column;align-items: center;background-color: white;padding-right: 0.2em;padding-left: 0.2em;position: relative;}#sk-container-id-5 div.sk-item {position: relative;z-index: 1;}#sk-container-id-5 div.sk-parallel {display: flex;align-items: stretch;justify-content: center;background-color: white;position: relative;}#sk-container-id-5 div.sk-item::before, #sk-container-id-5 div.sk-parallel-item::before {content: \"\";position: absolute;border-left: 1px solid gray;box-sizing: border-box;top: 0;bottom: 0;left: 50%;z-index: -1;}#sk-container-id-5 div.sk-parallel-item {display: flex;flex-direction: column;z-index: 1;position: relative;background-color: white;}#sk-container-id-5 div.sk-parallel-item:first-child::after {align-self: flex-end;width: 50%;}#sk-container-id-5 div.sk-parallel-item:last-child::after {align-self: flex-start;width: 50%;}#sk-container-id-5 div.sk-parallel-item:only-child::after {width: 0;}#sk-container-id-5 div.sk-dashed-wrapped {border: 1px dashed gray;margin: 0 0.4em 0.5em 0.4em;box-sizing: border-box;padding-bottom: 0.4em;background-color: white;}#sk-container-id-5 div.sk-label label {font-family: monospace;font-weight: bold;display: inline-block;line-height: 1.2em;}#sk-container-id-5 div.sk-label-container {text-align: center;}#sk-container-id-5 div.sk-container {/* jupyter's `normalize.less` sets `[hidden] { display: none; }` but bootstrap.min.css set `[hidden] { display: none !important; }` so we also need the `!important` here to be able to override the default hidden behavior on the sphinx rendered scikit-learn.org. See: https://github.com/scikit-learn/scikit-learn/issues/21755 */display: inline-block !important;position: relative;}#sk-container-id-5 div.sk-text-repr-fallback {display: none;}</style><div id=\"sk-container-id-5\" class=\"sk-top-container\"><div class=\"sk-text-repr-fallback\"><pre>RandomForestRegressor(ccp_alpha=0.05, max_depth=2, max_features=None,\n",
       "                      max_leaf_nodes=4, min_impurity_decrease=0.03,\n",
       "                      min_samples_leaf=3, min_samples_split=5,\n",
       "                      min_weight_fraction_leaf=0.08, n_estimators=240,\n",
       "                      random_state=2022)</pre><b>In a Jupyter environment, please rerun this cell to show the HTML representation or trust the notebook. <br />On GitHub, the HTML representation is unable to render, please try loading this page with nbviewer.org.</b></div><div class=\"sk-container\" hidden><div class=\"sk-item\"><div class=\"sk-estimator sk-toggleable\"><input class=\"sk-toggleable__control sk-hidden--visually\" id=\"sk-estimator-id-5\" type=\"checkbox\" checked><label for=\"sk-estimator-id-5\" class=\"sk-toggleable__label sk-toggleable__label-arrow\">RandomForestRegressor</label><div class=\"sk-toggleable__content\"><pre>RandomForestRegressor(ccp_alpha=0.05, max_depth=2, max_features=None,\n",
       "                      max_leaf_nodes=4, min_impurity_decrease=0.03,\n",
       "                      min_samples_leaf=3, min_samples_split=5,\n",
       "                      min_weight_fraction_leaf=0.08, n_estimators=240,\n",
       "                      random_state=2022)</pre></div></div></div></div></div>"
      ],
      "text/plain": [
       "RandomForestRegressor(ccp_alpha=0.05, max_depth=2, max_features=None,\n",
       "                      max_leaf_nodes=4, min_impurity_decrease=0.03,\n",
       "                      min_samples_leaf=3, min_samples_split=5,\n",
       "                      min_weight_fraction_leaf=0.08, n_estimators=240,\n",
       "                      random_state=2022)"
      ]
     },
     "execution_count": 35,
     "metadata": {},
     "output_type": "execute_result"
    }
   ],
   "source": [
    "from sklearn.ensemble import RandomForestRegressor\n",
    "\n",
    "model = RandomForestRegressor(n_estimators=240, criterion='squared_error', max_depth=2, min_samples_split=5, min_samples_leaf=3, min_weight_fraction_leaf=0.08, max_features=None, max_leaf_nodes=4, min_impurity_decrease=0.03, bootstrap=True, oob_score=False, n_jobs=None, random_state=2022, verbose=0, warm_start=False, ccp_alpha=0.05, max_samples=None)\n",
    "model.fit(train_X, train_y.ravel())"
   ]
  },
  {
   "cell_type": "code",
   "execution_count": 36,
   "metadata": {},
   "outputs": [],
   "source": [
    "preds_test = model.predict(test_X)\n",
    "preds_train = model.predict(train_X)"
   ]
  },
  {
   "cell_type": "code",
   "execution_count": 37,
   "metadata": {},
   "outputs": [
    {
     "data": {
      "text/plain": [
       "[144205.696, 379.744, 246.902, 180896.83, 425.32, 352.75]"
      ]
     },
     "execution_count": 37,
     "metadata": {},
     "output_type": "execute_result"
    }
   ],
   "source": [
    "evaluate_model(test=test_y, predictions_test=preds_test, train=train_y, predictions_train=preds_train)"
   ]
  },
  {
   "cell_type": "code",
   "execution_count": 38,
   "metadata": {},
   "outputs": [],
   "source": [
    "pickle.dump(model, open(r\"..\\data\\rf_all_features_4_week.pkl\", \"wb\" ))"
   ]
  },
  {
   "cell_type": "code",
   "execution_count": 39,
   "metadata": {},
   "outputs": [
    {
     "data": {
      "text/plain": [
       "[<matplotlib.lines.Line2D at 0x18c73f01670>]"
      ]
     },
     "execution_count": 39,
     "metadata": {},
     "output_type": "execute_result"
    },
    {
     "data": {
      "image/png": "[encoded data removed]",
      "text/plain": [
       "<Figure size 2000x1000 with 1 Axes>"
      ]
     },
     "metadata": {},
     "output_type": "display_data"
    }
   ],
   "source": [
    "plt.plot(df_pre_COVID_all_features.index, df_pre_COVID_all_features['Total Cases'].values)\n",
    "plt.plot(df_pre_COVID_all_features.index[-4:], preds_test, color='red')"
   ]
  },
  {
   "cell_type": "markdown",
   "metadata": {},
   "source": [
    "### 12 weeks"
   ]
  },
  {
   "cell_type": "code",
   "execution_count": 40,
   "metadata": {},
   "outputs": [
    {
     "name": "stdout",
     "output_type": "stream",
     "text": [
      "Shape of train_X: (145, 48)\n",
      "Shape of train_y: (145, 1)\n",
      "Shape of test_X: (12, 48)\n",
      "Shape of test_y: (12, 1)\n"
     ]
    }
   ],
   "source": [
    "# split into train and test\n",
    "X = df_pre_COVID_all_features.loc[:, df_pre_COVID_all_features.columns != 'Total Cases']\n",
    "y = df_pre_COVID_all_features['Total Cases']\n",
    "\n",
    "train_X = X.iloc[:-12].to_numpy()\n",
    "train_y = y.iloc[:-12].to_numpy().reshape(-1,1)\n",
    "test_X = X.iloc[-12:].to_numpy()\n",
    "test_y = np.asarray(y.iloc[-12:]).reshape(-1,1)\n",
    "\n",
    "print(f'Shape of train_X: {train_X.shape}')\n",
    "print(f'Shape of train_y: {train_y.shape}')\n",
    "print(f'Shape of test_X: {test_X.shape}')\n",
    "print(f'Shape of test_y: {test_y.shape}')"
   ]
  },
  {
   "cell_type": "code",
   "execution_count": 41,
   "metadata": {},
   "outputs": [],
   "source": [
    "# scale data\n",
    "from sklearn.preprocessing import StandardScaler\n",
    "scaler = StandardScaler()\n",
    "train_X = scaler.fit_transform(train_X)\n",
    "test_X = scaler.transform(test_X)"
   ]
  },
  {
   "cell_type": "code",
   "execution_count": 42,
   "metadata": {},
   "outputs": [
    {
     "data": {
      "text/html": [
       "<style>#sk-container-id-6 {color: black;background-color: white;}#sk-container-id-6 pre{padding: 0;}#sk-container-id-6 div.sk-toggleable {background-color: white;}#sk-container-id-6 label.sk-toggleable__label {cursor: pointer;display: block;width: 100%;margin-bottom: 0;padding: 0.3em;box-sizing: border-box;text-align: center;}#sk-container-id-6 label.sk-toggleable__label-arrow:before {content: \"▸\";float: left;margin-right: 0.25em;color: #696969;}#sk-container-id-6 label.sk-toggleable__label-arrow:hover:before {color: black;}#sk-container-id-6 div.sk-estimator:hover label.sk-toggleable__label-arrow:before {color: black;}#sk-container-id-6 div.sk-toggleable__content {max-height: 0;max-width: 0;overflow: hidden;text-align: left;background-color: #f0f8ff;}#sk-container-id-6 div.sk-toggleable__content pre {margin: 0.2em;color: black;border-radius: 0.25em;background-color: #f0f8ff;}#sk-container-id-6 input.sk-toggleable__control:checked~div.sk-toggleable__content {max-height: 200px;max-width: 100%;overflow: auto;}#sk-container-id-6 input.sk-toggleable__control:checked~label.sk-toggleable__label-arrow:before {content: \"▾\";}#sk-container-id-6 div.sk-estimator input.sk-toggleable__control:checked~label.sk-toggleable__label {background-color: #d4ebff;}#sk-container-id-6 div.sk-label input.sk-toggleable__control:checked~label.sk-toggleable__label {background-color: #d4ebff;}#sk-container-id-6 input.sk-hidden--visually {border: 0;clip: rect(1px 1px 1px 1px);clip: rect(1px, 1px, 1px, 1px);height: 1px;margin: -1px;overflow: hidden;padding: 0;position: absolute;width: 1px;}#sk-container-id-6 div.sk-estimator {font-family: monospace;background-color: #f0f8ff;border: 1px dotted black;border-radius: 0.25em;box-sizing: border-box;margin-bottom: 0.5em;}#sk-container-id-6 div.sk-estimator:hover {background-color: #d4ebff;}#sk-container-id-6 div.sk-parallel-item::after {content: \"\";width: 100%;border-bottom: 1px solid gray;flex-grow: 1;}#sk-container-id-6 div.sk-label:hover label.sk-toggleable__label {background-color: #d4ebff;}#sk-container-id-6 div.sk-serial::before {content: \"\";position: absolute;border-left: 1px solid gray;box-sizing: border-box;top: 0;bottom: 0;left: 50%;z-index: 0;}#sk-container-id-6 div.sk-serial {display: flex;flex-direction: column;align-items: center;background-color: white;padding-right: 0.2em;padding-left: 0.2em;position: relative;}#sk-container-id-6 div.sk-item {position: relative;z-index: 1;}#sk-container-id-6 div.sk-parallel {display: flex;align-items: stretch;justify-content: center;background-color: white;position: relative;}#sk-container-id-6 div.sk-item::before, #sk-container-id-6 div.sk-parallel-item::before {content: \"\";position: absolute;border-left: 1px solid gray;box-sizing: border-box;top: 0;bottom: 0;left: 50%;z-index: -1;}#sk-container-id-6 div.sk-parallel-item {display: flex;flex-direction: column;z-index: 1;position: relative;background-color: white;}#sk-container-id-6 div.sk-parallel-item:first-child::after {align-self: flex-end;width: 50%;}#sk-container-id-6 div.sk-parallel-item:last-child::after {align-self: flex-start;width: 50%;}#sk-container-id-6 div.sk-parallel-item:only-child::after {width: 0;}#sk-container-id-6 div.sk-dashed-wrapped {border: 1px dashed gray;margin: 0 0.4em 0.5em 0.4em;box-sizing: border-box;padding-bottom: 0.4em;background-color: white;}#sk-container-id-6 div.sk-label label {font-family: monospace;font-weight: bold;display: inline-block;line-height: 1.2em;}#sk-container-id-6 div.sk-label-container {text-align: center;}#sk-container-id-6 div.sk-container {/* jupyter's `normalize.less` sets `[hidden] { display: none; }` but bootstrap.min.css set `[hidden] { display: none !important; }` so we also need the `!important` here to be able to override the default hidden behavior on the sphinx rendered scikit-learn.org. See: https://github.com/scikit-learn/scikit-learn/issues/21755 */display: inline-block !important;position: relative;}#sk-container-id-6 div.sk-text-repr-fallback {display: none;}</style><div id=\"sk-container-id-6\" class=\"sk-top-container\"><div class=\"sk-text-repr-fallback\"><pre>RandomForestRegressor(ccp_alpha=0.05, max_depth=2, max_features=None,\n",
       "                      max_leaf_nodes=4, min_impurity_decrease=0.03,\n",
       "                      min_samples_leaf=3, min_samples_split=5,\n",
       "                      min_weight_fraction_leaf=0.08, n_estimators=240,\n",
       "                      random_state=2022)</pre><b>In a Jupyter environment, please rerun this cell to show the HTML representation or trust the notebook. <br />On GitHub, the HTML representation is unable to render, please try loading this page with nbviewer.org.</b></div><div class=\"sk-container\" hidden><div class=\"sk-item\"><div class=\"sk-estimator sk-toggleable\"><input class=\"sk-toggleable__control sk-hidden--visually\" id=\"sk-estimator-id-6\" type=\"checkbox\" checked><label for=\"sk-estimator-id-6\" class=\"sk-toggleable__label sk-toggleable__label-arrow\">RandomForestRegressor</label><div class=\"sk-toggleable__content\"><pre>RandomForestRegressor(ccp_alpha=0.05, max_depth=2, max_features=None,\n",
       "                      max_leaf_nodes=4, min_impurity_decrease=0.03,\n",
       "                      min_samples_leaf=3, min_samples_split=5,\n",
       "                      min_weight_fraction_leaf=0.08, n_estimators=240,\n",
       "                      random_state=2022)</pre></div></div></div></div></div>"
      ],
      "text/plain": [
       "RandomForestRegressor(ccp_alpha=0.05, max_depth=2, max_features=None,\n",
       "                      max_leaf_nodes=4, min_impurity_decrease=0.03,\n",
       "                      min_samples_leaf=3, min_samples_split=5,\n",
       "                      min_weight_fraction_leaf=0.08, n_estimators=240,\n",
       "                      random_state=2022)"
      ]
     },
     "execution_count": 42,
     "metadata": {},
     "output_type": "execute_result"
    }
   ],
   "source": [
    "from sklearn.ensemble import RandomForestRegressor\n",
    "\n",
    "model = RandomForestRegressor(n_estimators=240, criterion='squared_error', max_depth=2, min_samples_split=5, min_samples_leaf=3, min_weight_fraction_leaf=0.08, max_features=None, max_leaf_nodes=4, min_impurity_decrease=0.03, bootstrap=True, oob_score=False, n_jobs=None, random_state=2022, verbose=0, warm_start=False, ccp_alpha=0.05, max_samples=None)\n",
    "model.fit(train_X, train_y.ravel())"
   ]
  },
  {
   "cell_type": "code",
   "execution_count": 43,
   "metadata": {},
   "outputs": [],
   "source": [
    "preds_test = model.predict(test_X)\n",
    "preds_train = model.predict(train_X)"
   ]
  },
  {
   "cell_type": "code",
   "execution_count": 44,
   "metadata": {},
   "outputs": [
    {
     "data": {
      "text/plain": [
       "[167680.557, 409.488, 250.794, 604689.881, 777.618, 659.001]"
      ]
     },
     "execution_count": 44,
     "metadata": {},
     "output_type": "execute_result"
    }
   ],
   "source": [
    "evaluate_model(test=test_y, predictions_test=preds_test, train=train_y, predictions_train=preds_train)"
   ]
  },
  {
   "cell_type": "code",
   "execution_count": 45,
   "metadata": {},
   "outputs": [
    {
     "data": {
      "text/plain": [
       "[<matplotlib.lines.Line2D at 0x18c73f28640>]"
      ]
     },
     "execution_count": 45,
     "metadata": {},
     "output_type": "execute_result"
    },
    {
     "data": {
      "image/png": "[encoded data removed]",
      "text/plain": [
       "<Figure size 2000x1000 with 1 Axes>"
      ]
     },
     "metadata": {},
     "output_type": "display_data"
    }
   ],
   "source": [
    "plt.plot(df_pre_COVID_all_features.index, df_pre_COVID_all_features['Total Cases'].values)\n",
    "plt.plot(df_pre_COVID_all_features.index[-12:], preds_test, color='red')"
   ]
  },
  {
   "cell_type": "code",
   "execution_count": null,
   "metadata": {},
   "outputs": [],
   "source": []
  },
  {
   "cell_type": "markdown",
   "metadata": {},
   "source": [
    "# RF, all features - Gridsearch Iteration 4"
   ]
  },
  {
   "cell_type": "code",
   "execution_count": 105,
   "metadata": {},
   "outputs": [],
   "source": [
    "from sklearn.model_selection import RandomizedSearchCV\n",
    "from sklearn.ensemble import RandomForestRegressor\n",
    "\n",
    "parameters = {  \n",
    "                'n_estimators':(210,220,230),\n",
    "                'criterion':(['poisson']),\n",
    "                'max_depth':([2]),\n",
    "                'min_samples_split':([5]),\n",
    "                'min_samples_leaf':([3]),\n",
    "                'min_weight_fraction_leaf':(0.07,0.08,0.09),\n",
    "                'max_features':([None]),\n",
    "                'max_leaf_nodes':([4]),\n",
    "                'min_impurity_decrease':(0.07,0.08,0.09),\n",
    "                'n_jobs':([-1]),\n",
    "                'random_state':([2022]),\n",
    "                'ccp_alpha':(0.02,0.03,0.04),\n",
    "                'max_samples':([None])\n",
    "                }\n",
    "\n",
    "rf = RandomForestRegressor()\n",
    "\n",
    "model = RandomizedSearchCV(rf, parameters, random_state=2022, scoring='neg_root_mean_squared_error')"
   ]
  },
  {
   "cell_type": "code",
   "execution_count": 106,
   "metadata": {},
   "outputs": [
    {
     "data": {
      "text/html": [
       "<style>#sk-container-id-13 {color: black;background-color: white;}#sk-container-id-13 pre{padding: 0;}#sk-container-id-13 div.sk-toggleable {background-color: white;}#sk-container-id-13 label.sk-toggleable__label {cursor: pointer;display: block;width: 100%;margin-bottom: 0;padding: 0.3em;box-sizing: border-box;text-align: center;}#sk-container-id-13 label.sk-toggleable__label-arrow:before {content: \"▸\";float: left;margin-right: 0.25em;color: #696969;}#sk-container-id-13 label.sk-toggleable__label-arrow:hover:before {color: black;}#sk-container-id-13 div.sk-estimator:hover label.sk-toggleable__label-arrow:before {color: black;}#sk-container-id-13 div.sk-toggleable__content {max-height: 0;max-width: 0;overflow: hidden;text-align: left;background-color: #f0f8ff;}#sk-container-id-13 div.sk-toggleable__content pre {margin: 0.2em;color: black;border-radius: 0.25em;background-color: #f0f8ff;}#sk-container-id-13 input.sk-toggleable__control:checked~div.sk-toggleable__content {max-height: 200px;max-width: 100%;overflow: auto;}#sk-container-id-13 input.sk-toggleable__control:checked~label.sk-toggleable__label-arrow:before {content: \"▾\";}#sk-container-id-13 div.sk-estimator input.sk-toggleable__control:checked~label.sk-toggleable__label {background-color: #d4ebff;}#sk-container-id-13 div.sk-label input.sk-toggleable__control:checked~label.sk-toggleable__label {background-color: #d4ebff;}#sk-container-id-13 input.sk-hidden--visually {border: 0;clip: rect(1px 1px 1px 1px);clip: rect(1px, 1px, 1px, 1px);height: 1px;margin: -1px;overflow: hidden;padding: 0;position: absolute;width: 1px;}#sk-container-id-13 div.sk-estimator {font-family: monospace;background-color: #f0f8ff;border: 1px dotted black;border-radius: 0.25em;box-sizing: border-box;margin-bottom: 0.5em;}#sk-container-id-13 div.sk-estimator:hover {background-color: #d4ebff;}#sk-container-id-13 div.sk-parallel-item::after {content: \"\";width: 100%;border-bottom: 1px solid gray;flex-grow: 1;}#sk-container-id-13 div.sk-label:hover label.sk-toggleable__label {background-color: #d4ebff;}#sk-container-id-13 div.sk-serial::before {content: \"\";position: absolute;border-left: 1px solid gray;box-sizing: border-box;top: 0;bottom: 0;left: 50%;z-index: 0;}#sk-container-id-13 div.sk-serial {display: flex;flex-direction: column;align-items: center;background-color: white;padding-right: 0.2em;padding-left: 0.2em;position: relative;}#sk-container-id-13 div.sk-item {position: relative;z-index: 1;}#sk-container-id-13 div.sk-parallel {display: flex;align-items: stretch;justify-content: center;background-color: white;position: relative;}#sk-container-id-13 div.sk-item::before, #sk-container-id-13 div.sk-parallel-item::before {content: \"\";position: absolute;border-left: 1px solid gray;box-sizing: border-box;top: 0;bottom: 0;left: 50%;z-index: -1;}#sk-container-id-13 div.sk-parallel-item {display: flex;flex-direction: column;z-index: 1;position: relative;background-color: white;}#sk-container-id-13 div.sk-parallel-item:first-child::after {align-self: flex-end;width: 50%;}#sk-container-id-13 div.sk-parallel-item:last-child::after {align-self: flex-start;width: 50%;}#sk-container-id-13 div.sk-parallel-item:only-child::after {width: 0;}#sk-container-id-13 div.sk-dashed-wrapped {border: 1px dashed gray;margin: 0 0.4em 0.5em 0.4em;box-sizing: border-box;padding-bottom: 0.4em;background-color: white;}#sk-container-id-13 div.sk-label label {font-family: monospace;font-weight: bold;display: inline-block;line-height: 1.2em;}#sk-container-id-13 div.sk-label-container {text-align: center;}#sk-container-id-13 div.sk-container {/* jupyter's `normalize.less` sets `[hidden] { display: none; }` but bootstrap.min.css set `[hidden] { display: none !important; }` so we also need the `!important` here to be able to override the default hidden behavior on the sphinx rendered scikit-learn.org. See: https://github.com/scikit-learn/scikit-learn/issues/21755 */display: inline-block !important;position: relative;}#sk-container-id-13 div.sk-text-repr-fallback {display: none;}</style><div id=\"sk-container-id-13\" class=\"sk-top-container\"><div class=\"sk-text-repr-fallback\"><pre>RandomizedSearchCV(estimator=RandomForestRegressor(),\n",
       "                   param_distributions={&#x27;ccp_alpha&#x27;: (0.02, 0.03, 0.04),\n",
       "                                        &#x27;criterion&#x27;: [&#x27;poisson&#x27;],\n",
       "                                        &#x27;max_depth&#x27;: [2],\n",
       "                                        &#x27;max_features&#x27;: [None],\n",
       "                                        &#x27;max_leaf_nodes&#x27;: [4],\n",
       "                                        &#x27;max_samples&#x27;: [None],\n",
       "                                        &#x27;min_impurity_decrease&#x27;: (0.07, 0.08,\n",
       "                                                                  0.09),\n",
       "                                        &#x27;min_samples_leaf&#x27;: [3],\n",
       "                                        &#x27;min_samples_split&#x27;: [5],\n",
       "                                        &#x27;min_weight_fraction_leaf&#x27;: (0.07, 0.08,\n",
       "                                                                     0.09),\n",
       "                                        &#x27;n_estimators&#x27;: (210, 220, 230),\n",
       "                                        &#x27;n_jobs&#x27;: [-1],\n",
       "                                        &#x27;random_state&#x27;: [2022]},\n",
       "                   random_state=2022, scoring=&#x27;neg_root_mean_squared_error&#x27;)</pre><b>In a Jupyter environment, please rerun this cell to show the HTML representation or trust the notebook. <br />On GitHub, the HTML representation is unable to render, please try loading this page with nbviewer.org.</b></div><div class=\"sk-container\" hidden><div class=\"sk-item sk-dashed-wrapped\"><div class=\"sk-label-container\"><div class=\"sk-label sk-toggleable\"><input class=\"sk-toggleable__control sk-hidden--visually\" id=\"sk-estimator-id-37\" type=\"checkbox\" ><label for=\"sk-estimator-id-37\" class=\"sk-toggleable__label sk-toggleable__label-arrow\">RandomizedSearchCV</label><div class=\"sk-toggleable__content\"><pre>RandomizedSearchCV(estimator=RandomForestRegressor(),\n",
       "                   param_distributions={&#x27;ccp_alpha&#x27;: (0.02, 0.03, 0.04),\n",
       "                                        &#x27;criterion&#x27;: [&#x27;poisson&#x27;],\n",
       "                                        &#x27;max_depth&#x27;: [2],\n",
       "                                        &#x27;max_features&#x27;: [None],\n",
       "                                        &#x27;max_leaf_nodes&#x27;: [4],\n",
       "                                        &#x27;max_samples&#x27;: [None],\n",
       "                                        &#x27;min_impurity_decrease&#x27;: (0.07, 0.08,\n",
       "                                                                  0.09),\n",
       "                                        &#x27;min_samples_leaf&#x27;: [3],\n",
       "                                        &#x27;min_samples_split&#x27;: [5],\n",
       "                                        &#x27;min_weight_fraction_leaf&#x27;: (0.07, 0.08,\n",
       "                                                                     0.09),\n",
       "                                        &#x27;n_estimators&#x27;: (210, 220, 230),\n",
       "                                        &#x27;n_jobs&#x27;: [-1],\n",
       "                                        &#x27;random_state&#x27;: [2022]},\n",
       "                   random_state=2022, scoring=&#x27;neg_root_mean_squared_error&#x27;)</pre></div></div></div><div class=\"sk-parallel\"><div class=\"sk-parallel-item\"><div class=\"sk-item\"><div class=\"sk-label-container\"><div class=\"sk-label sk-toggleable\"><input class=\"sk-toggleable__control sk-hidden--visually\" id=\"sk-estimator-id-38\" type=\"checkbox\" ><label for=\"sk-estimator-id-38\" class=\"sk-toggleable__label sk-toggleable__label-arrow\">estimator: RandomForestRegressor</label><div class=\"sk-toggleable__content\"><pre>RandomForestRegressor()</pre></div></div></div><div class=\"sk-serial\"><div class=\"sk-item\"><div class=\"sk-estimator sk-toggleable\"><input class=\"sk-toggleable__control sk-hidden--visually\" id=\"sk-estimator-id-39\" type=\"checkbox\" ><label for=\"sk-estimator-id-39\" class=\"sk-toggleable__label sk-toggleable__label-arrow\">RandomForestRegressor</label><div class=\"sk-toggleable__content\"><pre>RandomForestRegressor()</pre></div></div></div></div></div></div></div></div></div></div>"
      ],
      "text/plain": [
       "RandomizedSearchCV(estimator=RandomForestRegressor(),\n",
       "                   param_distributions={'ccp_alpha': (0.02, 0.03, 0.04),\n",
       "                                        'criterion': ['poisson'],\n",
       "                                        'max_depth': [2],\n",
       "                                        'max_features': [None],\n",
       "                                        'max_leaf_nodes': [4],\n",
       "                                        'max_samples': [None],\n",
       "                                        'min_impurity_decrease': (0.07, 0.08,\n",
       "                                                                  0.09),\n",
       "                                        'min_samples_leaf': [3],\n",
       "                                        'min_samples_split': [5],\n",
       "                                        'min_weight_fraction_leaf': (0.07, 0.08,\n",
       "                                                                     0.09),\n",
       "                                        'n_estimators': (210, 220, 230),\n",
       "                                        'n_jobs': [-1],\n",
       "                                        'random_state': [2022]},\n",
       "                   random_state=2022, scoring='neg_root_mean_squared_error')"
      ]
     },
     "execution_count": 106,
     "metadata": {},
     "output_type": "execute_result"
    }
   ],
   "source": [
    "model.fit(train_X, train_y)"
   ]
  },
  {
   "cell_type": "code",
   "execution_count": 107,
   "metadata": {},
   "outputs": [
    {
     "data": {
      "text/plain": [
       "{'random_state': 2022,\n",
       " 'n_jobs': -1,\n",
       " 'n_estimators': 220,\n",
       " 'min_weight_fraction_leaf': 0.07,\n",
       " 'min_samples_split': 5,\n",
       " 'min_samples_leaf': 3,\n",
       " 'min_impurity_decrease': 0.07,\n",
       " 'max_samples': None,\n",
       " 'max_leaf_nodes': 4,\n",
       " 'max_features': None,\n",
       " 'max_depth': 2,\n",
       " 'criterion': 'poisson',\n",
       " 'ccp_alpha': 0.03}"
      ]
     },
     "execution_count": 107,
     "metadata": {},
     "output_type": "execute_result"
    }
   ],
   "source": [
    "model.best_params_"
   ]
  },
  {
   "cell_type": "code",
   "execution_count": 108,
   "metadata": {},
   "outputs": [],
   "source": [
    "preds_test = model.predict(test_X)\n",
    "preds_train = model.predict(train_X)"
   ]
  },
  {
   "cell_type": "code",
   "execution_count": 109,
   "metadata": {},
   "outputs": [
    {
     "data": {
      "text/plain": [
       "[153434.993, 391.708, 241.605, 261683.071, 511.55, 511.55]"
      ]
     },
     "execution_count": 109,
     "metadata": {},
     "output_type": "execute_result"
    }
   ],
   "source": [
    "evaluate_model(test=test_y, predictions_test=preds_test, train=train_y, predictions_train=preds_train)"
   ]
  },
  {
   "cell_type": "markdown",
   "metadata": {},
   "source": [
    "# SVM, all features - Gridsearch - Iteration 1"
   ]
  },
  {
   "cell_type": "code",
   "execution_count": 125,
   "metadata": {},
   "outputs": [],
   "source": [
    "from sklearn.model_selection import RandomizedSearchCV\n",
    "from sklearn import svm\n",
    "\n",
    "parameters = {  \n",
    "                'kernel':('linear', 'poly', 'rbf', 'sigmoid'),\n",
    "                'degree':(2,3,4),\n",
    "                'gamma':('scale', 'auto'),\n",
    "                # 'coef0':(0.0,0.1,0.2),\n",
    "                # 'tol':(0.001,0.01,0.1),\n",
    "                # 'C':(0.5,1.0,1.5),\n",
    "                # 'epsilon':(0.05,0.1,0.15),\n",
    "                # 'shrinking':(True,False),\n",
    "                # 'max_iter':(-1,100,200)\n",
    "                }\n",
    "sv = svm.SVR()\n",
    "\n",
    "model = RandomizedSearchCV(sv, parameters, random_state=2022, scoring='neg_root_mean_squared_error')"
   ]
  },
  {
   "cell_type": "code",
   "execution_count": 126,
   "metadata": {},
   "outputs": [],
   "source": [
    "model.fit(train_X, train_y)"
   ]
  },
  {
   "cell_type": "code",
   "execution_count": null,
   "metadata": {},
   "outputs": [],
   "source": [
    "model.best_params_"
   ]
  },
  {
   "cell_type": "code",
   "execution_count": 123,
   "metadata": {},
   "outputs": [],
   "source": [
    "preds_test = model.predict(test_X)\n",
    "preds_train = model.predict(train_X)"
   ]
  },
  {
   "cell_type": "code",
   "execution_count": 124,
   "metadata": {},
   "outputs": [
    {
     "data": {
      "text/plain": [
       "[2493574.629, 1579.106, 991.324, 10568724.223, 3250.957, 3250.957]"
      ]
     },
     "execution_count": 124,
     "metadata": {},
     "output_type": "execute_result"
    }
   ],
   "source": [
    "evaluate_model(test=test_y, predictions_test=preds_test, train=train_y, predictions_train=preds_train)"
   ]
  },
  {
   "cell_type": "code",
   "execution_count": null,
   "metadata": {},
   "outputs": [],
   "source": [
    "pickle.dump(model, open(r\"..\\data\\rf_all_features_1_week.pkl\", \"wb\" ))"
   ]
  },
  {
   "cell_type": "markdown",
   "metadata": {},
   "source": [
    "# XGBoost, all features - Gridsearch - Iteration 1"
   ]
  },
  {
   "cell_type": "code",
   "execution_count": 46,
   "metadata": {},
   "outputs": [
    {
     "name": "stdout",
     "output_type": "stream",
     "text": [
      "Shape of train_X: (156, 48)\n",
      "Shape of train_y: (156,)\n",
      "Shape of test_X: (1, 48)\n",
      "Shape of test_y: (1, 1)\n"
     ]
    }
   ],
   "source": [
    "from sklearn.linear_model import LinearRegression\n",
    "from sklearn.ensemble import RandomForestRegressor\n",
    "from sklearn.ensemble import VotingRegressor\n",
    "from sklearn.neighbors import KNeighborsRegressor\n",
    "from sklearn import svm\n",
    "\n",
    "# split into train and test\n",
    "X = df_pre_COVID_all_features.loc[:, df_pre_COVID_all_features.columns != 'Total Cases']\n",
    "y = df_pre_COVID_all_features['Total Cases']\n",
    "\n",
    "train_X = X.iloc[:-1].to_numpy()\n",
    "train_y = y.iloc[:-1].to_numpy()\n",
    "test_X = X.iloc[-1].to_numpy().reshape(1,-1)\n",
    "test_y = np.asarray(y.iloc[-1]).reshape(1,-1)\n",
    "\n",
    "# train_X = X.iloc[:-1].to_numpy()\n",
    "# train_y = y.iloc[:-1].to_numpy().reshape(-1,1)\n",
    "# test_X = X.iloc[-1:].to_numpy()\n",
    "# test_y = np.asarray(y.iloc[-1:]).reshape(-1,1)\n",
    "\n",
    "print(f'Shape of train_X: {train_X.shape}')\n",
    "print(f'Shape of train_y: {train_y.shape}')\n",
    "print(f'Shape of test_X: {test_X.shape}')\n",
    "print(f'Shape of test_y: {test_y.shape}')"
   ]
  },
  {
   "cell_type": "code",
   "execution_count": 47,
   "metadata": {},
   "outputs": [],
   "source": [
    "# scale data\n",
    "from sklearn.preprocessing import StandardScaler\n",
    "scaler = StandardScaler()\n",
    "train_X = scaler.fit_transform(train_X)\n",
    "test_X = scaler.transform(test_X)"
   ]
  },
  {
   "cell_type": "code",
   "execution_count": 55,
   "metadata": {},
   "outputs": [
    {
     "data": {
      "text/plain": [
       "[122427.153, 349.896, 189.768, 263723.627, 513.54, 513.54]"
      ]
     },
     "execution_count": 55,
     "metadata": {},
     "output_type": "execute_result"
    }
   ],
   "source": [
    "from sklearn.ensemble import GradientBoostingRegressor\n",
    "from sklearn.model_selection import RandomizedSearchCV\n",
    "\n",
    "parameters = {  \n",
    "                'loss':('squared_error', 'absolute_error', 'huber', 'quantile'),\n",
    "                'learning_rate':(0.1,0.2,0.3),\n",
    "                'n_estimators':(50,100,150),\n",
    "                'subsample':(0.1,0.5,1.0),\n",
    "                'criterion':('friedman_mse', 'squared_error'),\n",
    "                'max_depth':([2]),\n",
    "                'min_samples_split':([5]),\n",
    "                'min_samples_leaf':([3]),\n",
    "                'min_weight_fraction_leaf':(0.03,0.05,0.08),\n",
    "                'max_features':([None]),\n",
    "                'max_leaf_nodes':([4]),\n",
    "                'min_impurity_decrease':(0.03,0.05,0.08),\n",
    "                'alpha':(0.7,0.8,0.9),\n",
    "                'ccp_alpha':(0.03,0.05,0.08)\n",
    "                }\n",
    "\n",
    "\n",
    "gb = GradientBoostingRegressor(random_state=2022)\n",
    "\n",
    "model = RandomizedSearchCV(gb, parameters, random_state=2022, scoring='neg_root_mean_squared_error')\n",
    "\n",
    "model.fit(train_X, train_y)\n",
    "\n",
    "preds_test = model.predict(test_X)\n",
    "preds_train = model.predict(train_X)\n",
    "\n",
    "evaluate_model(test=test_y, predictions_test=preds_test, train=train_y, predictions_train=preds_train)"
   ]
  },
  {
   "cell_type": "code",
   "execution_count": 56,
   "metadata": {},
   "outputs": [
    {
     "data": {
      "text/plain": [
       "{'subsample': 1.0,\n",
       " 'n_estimators': 50,\n",
       " 'min_weight_fraction_leaf': 0.08,\n",
       " 'min_samples_split': 5,\n",
       " 'min_samples_leaf': 3,\n",
       " 'min_impurity_decrease': 0.08,\n",
       " 'max_leaf_nodes': 4,\n",
       " 'max_features': None,\n",
       " 'max_depth': 2,\n",
       " 'loss': 'huber',\n",
       " 'learning_rate': 0.1,\n",
       " 'criterion': 'squared_error',\n",
       " 'ccp_alpha': 0.08,\n",
       " 'alpha': 0.7}"
      ]
     },
     "execution_count": 56,
     "metadata": {},
     "output_type": "execute_result"
    }
   ],
   "source": [
    "model.best_params_"
   ]
  },
  {
   "cell_type": "markdown",
   "metadata": {},
   "source": [
    "# XGBoost, all features - Gridsearch - Iteration 2"
   ]
  },
  {
   "cell_type": "code",
   "execution_count": null,
   "metadata": {},
   "outputs": [
    {
     "name": "stdout",
     "output_type": "stream",
     "text": [
      "Shape of train_X: (156, 48)\n",
      "Shape of train_y: (156,)\n",
      "Shape of test_X: (1, 48)\n",
      "Shape of test_y: (1, 1)\n"
     ]
    }
   ],
   "source": [
    "from sklearn.linear_model import LinearRegression\n",
    "from sklearn.ensemble import RandomForestRegressor\n",
    "from sklearn.ensemble import VotingRegressor\n",
    "from sklearn.neighbors import KNeighborsRegressor\n",
    "from sklearn import svm\n",
    "\n",
    "# split into train and test\n",
    "X = df_pre_COVID_all_features.loc[:, df_pre_COVID_all_features.columns != 'Total Cases']\n",
    "y = df_pre_COVID_all_features['Total Cases']\n",
    "\n",
    "train_X = X.iloc[:-1].to_numpy()\n",
    "train_y = y.iloc[:-1].to_numpy()\n",
    "test_X = X.iloc[-1].to_numpy().reshape(1,-1)\n",
    "test_y = np.asarray(y.iloc[-1]).reshape(1,-1)\n",
    "\n",
    "# train_X = X.iloc[:-1].to_numpy()\n",
    "# train_y = y.iloc[:-1].to_numpy().reshape(-1,1)\n",
    "# test_X = X.iloc[-1:].to_numpy()\n",
    "# test_y = np.asarray(y.iloc[-1:]).reshape(-1,1)\n",
    "\n",
    "print(f'Shape of train_X: {train_X.shape}')\n",
    "print(f'Shape of train_y: {train_y.shape}')\n",
    "print(f'Shape of test_X: {test_X.shape}')\n",
    "print(f'Shape of test_y: {test_y.shape}')"
   ]
  },
  {
   "cell_type": "code",
   "execution_count": null,
   "metadata": {},
   "outputs": [],
   "source": [
    "# scale data\n",
    "from sklearn.preprocessing import StandardScaler\n",
    "scaler = StandardScaler()\n",
    "train_X = scaler.fit_transform(train_X)\n",
    "test_X = scaler.transform(test_X)"
   ]
  },
  {
   "cell_type": "code",
   "execution_count": 57,
   "metadata": {},
   "outputs": [
    {
     "data": {
      "text/plain": [
       "[155817.274, 394.737, 216.552, 212434.827, 460.907, 460.907]"
      ]
     },
     "execution_count": 57,
     "metadata": {},
     "output_type": "execute_result"
    }
   ],
   "source": [
    "from sklearn.ensemble import GradientBoostingRegressor\n",
    "from sklearn.model_selection import RandomizedSearchCV\n",
    "\n",
    "parameters = {  \n",
    "                'loss':(['huber']),\n",
    "                'learning_rate':(0.1,0.01,0.001),\n",
    "                'n_estimators':(30,50,80),\n",
    "                'subsample':(0.8,0.9,1.0),\n",
    "                'criterion':(['squared_error']),\n",
    "                'max_depth':([2]),\n",
    "                'min_samples_split':([5]),\n",
    "                'min_samples_leaf':([3]),\n",
    "                'min_weight_fraction_leaf':(0.07,0.08,0.09),\n",
    "                'max_features':([None]),\n",
    "                'max_leaf_nodes':([4]),\n",
    "                'min_impurity_decrease':(0.07,0.08,0.09),\n",
    "                'alpha':(0.5,0.6,0.7),\n",
    "                'ccp_alpha':(0.07,0.08,0.09)\n",
    "                }\n",
    "\n",
    "\n",
    "gb = GradientBoostingRegressor(random_state=2022)\n",
    "\n",
    "model = RandomizedSearchCV(gb, parameters, random_state=2022, scoring='neg_root_mean_squared_error')\n",
    "\n",
    "model.fit(train_X, train_y)\n",
    "\n",
    "preds_test = model.predict(test_X)\n",
    "preds_train = model.predict(train_X)\n",
    "\n",
    "evaluate_model(test=test_y, predictions_test=preds_test, train=train_y, predictions_train=preds_train)"
   ]
  },
  {
   "cell_type": "code",
   "execution_count": 58,
   "metadata": {},
   "outputs": [
    {
     "data": {
      "text/plain": [
       "{'subsample': 1.0,\n",
       " 'n_estimators': 30,\n",
       " 'min_weight_fraction_leaf': 0.07,\n",
       " 'min_samples_split': 5,\n",
       " 'min_samples_leaf': 3,\n",
       " 'min_impurity_decrease': 0.08,\n",
       " 'max_leaf_nodes': 4,\n",
       " 'max_features': None,\n",
       " 'max_depth': 2,\n",
       " 'loss': 'huber',\n",
       " 'learning_rate': 0.1,\n",
       " 'criterion': 'squared_error',\n",
       " 'ccp_alpha': 0.09,\n",
       " 'alpha': 0.6}"
      ]
     },
     "execution_count": 58,
     "metadata": {},
     "output_type": "execute_result"
    }
   ],
   "source": [
    "model.best_params_"
   ]
  },
  {
   "cell_type": "markdown",
   "metadata": {},
   "source": [
    "# XGBoost, all features - Gridsearch - Iteration 3"
   ]
  },
  {
   "cell_type": "code",
   "execution_count": null,
   "metadata": {},
   "outputs": [
    {
     "name": "stdout",
     "output_type": "stream",
     "text": [
      "Shape of train_X: (156, 48)\n",
      "Shape of train_y: (156,)\n",
      "Shape of test_X: (1, 48)\n",
      "Shape of test_y: (1, 1)\n"
     ]
    }
   ],
   "source": [
    "from sklearn.linear_model import LinearRegression\n",
    "from sklearn.ensemble import RandomForestRegressor\n",
    "from sklearn.ensemble import VotingRegressor\n",
    "from sklearn.neighbors import KNeighborsRegressor\n",
    "from sklearn import svm\n",
    "\n",
    "# split into train and test\n",
    "X = df_pre_COVID_all_features.loc[:, df_pre_COVID_all_features.columns != 'Total Cases']\n",
    "y = df_pre_COVID_all_features['Total Cases']\n",
    "\n",
    "train_X = X.iloc[:-1].to_numpy()\n",
    "train_y = y.iloc[:-1].to_numpy()\n",
    "test_X = X.iloc[-1].to_numpy().reshape(1,-1)\n",
    "test_y = np.asarray(y.iloc[-1]).reshape(1,-1)\n",
    "\n",
    "# train_X = X.iloc[:-1].to_numpy()\n",
    "# train_y = y.iloc[:-1].to_numpy().reshape(-1,1)\n",
    "# test_X = X.iloc[-1:].to_numpy()\n",
    "# test_y = np.asarray(y.iloc[-1:]).reshape(-1,1)\n",
    "\n",
    "print(f'Shape of train_X: {train_X.shape}')\n",
    "print(f'Shape of train_y: {train_y.shape}')\n",
    "print(f'Shape of test_X: {test_X.shape}')\n",
    "print(f'Shape of test_y: {test_y.shape}')"
   ]
  },
  {
   "cell_type": "code",
   "execution_count": null,
   "metadata": {},
   "outputs": [],
   "source": [
    "# scale data\n",
    "from sklearn.preprocessing import StandardScaler\n",
    "scaler = StandardScaler()\n",
    "train_X = scaler.fit_transform(train_X)\n",
    "test_X = scaler.transform(test_X)"
   ]
  },
  {
   "cell_type": "code",
   "execution_count": 61,
   "metadata": {},
   "outputs": [
    {
     "data": {
      "text/plain": [
       "[151282.288, 388.95, 213.835, 169772.81, 412.035, 412.035]"
      ]
     },
     "execution_count": 61,
     "metadata": {},
     "output_type": "execute_result"
    }
   ],
   "source": [
    "from sklearn.ensemble import GradientBoostingRegressor\n",
    "from sklearn.model_selection import RandomizedSearchCV\n",
    "\n",
    "parameters = {  \n",
    "                'loss':(['huber']),\n",
    "                'learning_rate':(0.09,0.1,0.11),\n",
    "                'n_estimators':(20,30,40),\n",
    "                'subsample':([1.0]),\n",
    "                'criterion':(['squared_error']),\n",
    "                'max_depth':([2]),\n",
    "                'min_samples_split':([5]),\n",
    "                'min_samples_leaf':([3]),\n",
    "                'min_weight_fraction_leaf':(0.06,0.07,0.08),\n",
    "                'max_features':([None]),\n",
    "                'max_leaf_nodes':([4]),\n",
    "                'min_impurity_decrease':(0.075,0.08,0.085),\n",
    "                'alpha':(0.55,0.6,0.65),\n",
    "                'ccp_alpha':(0.085,0.09,0.095)\n",
    "                }\n",
    "\n",
    "\n",
    "gb = GradientBoostingRegressor(random_state=2022)\n",
    "\n",
    "model = RandomizedSearchCV(gb, parameters, random_state=2022, scoring='neg_root_mean_squared_error')\n",
    "\n",
    "model.fit(train_X, train_y)\n",
    "\n",
    "preds_test = model.predict(test_X)\n",
    "preds_train = model.predict(train_X)\n",
    "\n",
    "evaluate_model(test=test_y, predictions_test=preds_test, train=train_y, predictions_train=preds_train)"
   ]
  },
  {
   "cell_type": "code",
   "execution_count": 62,
   "metadata": {},
   "outputs": [
    {
     "data": {
      "text/plain": [
       "{'subsample': 1.0,\n",
       " 'n_estimators': 30,\n",
       " 'min_weight_fraction_leaf': 0.07,\n",
       " 'min_samples_split': 5,\n",
       " 'min_samples_leaf': 3,\n",
       " 'min_impurity_decrease': 0.085,\n",
       " 'max_leaf_nodes': 4,\n",
       " 'max_features': None,\n",
       " 'max_depth': 2,\n",
       " 'loss': 'huber',\n",
       " 'learning_rate': 0.1,\n",
       " 'criterion': 'squared_error',\n",
       " 'ccp_alpha': 0.085,\n",
       " 'alpha': 0.55}"
      ]
     },
     "execution_count": 62,
     "metadata": {},
     "output_type": "execute_result"
    }
   ],
   "source": [
    "model.best_params_"
   ]
  },
  {
   "cell_type": "code",
   "execution_count": 63,
   "metadata": {},
   "outputs": [],
   "source": [
    "pickle.dump(model, open(r\"..\\data\\xgb_all_features_1_week.pkl\", \"wb\" ))"
   ]
  },
  {
   "cell_type": "markdown",
   "metadata": {},
   "source": [
    "# RF, all features - update - Gridsearch - Iteration 1"
   ]
  },
  {
   "cell_type": "code",
   "execution_count": 4,
   "metadata": {},
   "outputs": [
    {
     "name": "stdout",
     "output_type": "stream",
     "text": [
      "Shape of train_X: (156, 79)\n",
      "Shape of train_y: (156,)\n",
      "Shape of test_X: (1, 79)\n",
      "Shape of test_y: (1, 1)\n"
     ]
    }
   ],
   "source": [
    "# split into train and test\n",
    "X = df_pre_COVID_all_features.loc[:, df_pre_COVID_all_features.columns != 'Total Cases']\n",
    "y = df_pre_COVID_all_features['Total Cases']\n",
    "\n",
    "train_X = X.iloc[:-1].to_numpy()\n",
    "train_y = y.iloc[:-1].to_numpy()\n",
    "test_X = X.iloc[-1].to_numpy().reshape(1,-1)\n",
    "test_y = np.asarray(y.iloc[-1]).reshape(1,-1)\n",
    "\n",
    "# train_X = X.iloc[:-1].to_numpy()\n",
    "# train_y = y.iloc[:-1].to_numpy().reshape(-1,1)\n",
    "# test_X = X.iloc[-1:].to_numpy()\n",
    "# test_y = np.asarray(y.iloc[-1:]).reshape(-1,1)\n",
    "\n",
    "print(f'Shape of train_X: {train_X.shape}')\n",
    "print(f'Shape of train_y: {train_y.shape}')\n",
    "print(f'Shape of test_X: {test_X.shape}')\n",
    "print(f'Shape of test_y: {test_y.shape}')"
   ]
  },
  {
   "cell_type": "code",
   "execution_count": 5,
   "metadata": {},
   "outputs": [],
   "source": [
    "# scale data\n",
    "from sklearn.preprocessing import StandardScaler\n",
    "scaler = StandardScaler()\n",
    "train_X = scaler.fit_transform(train_X)\n",
    "test_X = scaler.transform(test_X)"
   ]
  },
  {
   "cell_type": "code",
   "execution_count": 6,
   "metadata": {},
   "outputs": [],
   "source": [
    "from sklearn.model_selection import RandomizedSearchCV\n",
    "from sklearn.ensemble import RandomForestRegressor\n",
    "\n",
    "parameters = {  \n",
    "                'n_estimators':(80,100,120),\n",
    "                'criterion':('squared_error', 'absolute_error', 'poisson'),\n",
    "                'max_depth':(2,3,None),\n",
    "                'min_samples_split':(2,3,4),\n",
    "                'min_samples_leaf':(1,2,3),\n",
    "                'min_weight_fraction_leaf':(0.0,0.1,0.2),\n",
    "                'max_features':('sqrt', 'log2', None),\n",
    "                'max_leaf_nodes':(5,10,None),\n",
    "                'min_impurity_decrease':(0.0,0.1,0.2),\n",
    "                # 'bootstrap':(True,False),\n",
    "                # 'oob_score':(True,False),\n",
    "                'n_jobs':([-1]),\n",
    "                'random_state':([2022]),\n",
    "                'ccp_alpha':(0.0,0.1,0.2),\n",
    "                'max_samples':(10,20,None)\n",
    "                }\n",
    "\n",
    "rf = RandomForestRegressor()\n",
    "\n",
    "model = RandomizedSearchCV(rf, parameters, random_state=2022, scoring='neg_root_mean_squared_error')"
   ]
  },
  {
   "cell_type": "code",
   "execution_count": 7,
   "metadata": {},
   "outputs": [
    {
     "data": {
      "text/html": [
       "<style>#sk-container-id-1 {color: black;background-color: white;}#sk-container-id-1 pre{padding: 0;}#sk-container-id-1 div.sk-toggleable {background-color: white;}#sk-container-id-1 label.sk-toggleable__label {cursor: pointer;display: block;width: 100%;margin-bottom: 0;padding: 0.3em;box-sizing: border-box;text-align: center;}#sk-container-id-1 label.sk-toggleable__label-arrow:before {content: \"▸\";float: left;margin-right: 0.25em;color: #696969;}#sk-container-id-1 label.sk-toggleable__label-arrow:hover:before {color: black;}#sk-container-id-1 div.sk-estimator:hover label.sk-toggleable__label-arrow:before {color: black;}#sk-container-id-1 div.sk-toggleable__content {max-height: 0;max-width: 0;overflow: hidden;text-align: left;background-color: #f0f8ff;}#sk-container-id-1 div.sk-toggleable__content pre {margin: 0.2em;color: black;border-radius: 0.25em;background-color: #f0f8ff;}#sk-container-id-1 input.sk-toggleable__control:checked~div.sk-toggleable__content {max-height: 200px;max-width: 100%;overflow: auto;}#sk-container-id-1 input.sk-toggleable__control:checked~label.sk-toggleable__label-arrow:before {content: \"▾\";}#sk-container-id-1 div.sk-estimator input.sk-toggleable__control:checked~label.sk-toggleable__label {background-color: #d4ebff;}#sk-container-id-1 div.sk-label input.sk-toggleable__control:checked~label.sk-toggleable__label {background-color: #d4ebff;}#sk-container-id-1 input.sk-hidden--visually {border: 0;clip: rect(1px 1px 1px 1px);clip: rect(1px, 1px, 1px, 1px);height: 1px;margin: -1px;overflow: hidden;padding: 0;position: absolute;width: 1px;}#sk-container-id-1 div.sk-estimator {font-family: monospace;background-color: #f0f8ff;border: 1px dotted black;border-radius: 0.25em;box-sizing: border-box;margin-bottom: 0.5em;}#sk-container-id-1 div.sk-estimator:hover {background-color: #d4ebff;}#sk-container-id-1 div.sk-parallel-item::after {content: \"\";width: 100%;border-bottom: 1px solid gray;flex-grow: 1;}#sk-container-id-1 div.sk-label:hover label.sk-toggleable__label {background-color: #d4ebff;}#sk-container-id-1 div.sk-serial::before {content: \"\";position: absolute;border-left: 1px solid gray;box-sizing: border-box;top: 0;bottom: 0;left: 50%;z-index: 0;}#sk-container-id-1 div.sk-serial {display: flex;flex-direction: column;align-items: center;background-color: white;padding-right: 0.2em;padding-left: 0.2em;position: relative;}#sk-container-id-1 div.sk-item {position: relative;z-index: 1;}#sk-container-id-1 div.sk-parallel {display: flex;align-items: stretch;justify-content: center;background-color: white;position: relative;}#sk-container-id-1 div.sk-item::before, #sk-container-id-1 div.sk-parallel-item::before {content: \"\";position: absolute;border-left: 1px solid gray;box-sizing: border-box;top: 0;bottom: 0;left: 50%;z-index: -1;}#sk-container-id-1 div.sk-parallel-item {display: flex;flex-direction: column;z-index: 1;position: relative;background-color: white;}#sk-container-id-1 div.sk-parallel-item:first-child::after {align-self: flex-end;width: 50%;}#sk-container-id-1 div.sk-parallel-item:last-child::after {align-self: flex-start;width: 50%;}#sk-container-id-1 div.sk-parallel-item:only-child::after {width: 0;}#sk-container-id-1 div.sk-dashed-wrapped {border: 1px dashed gray;margin: 0 0.4em 0.5em 0.4em;box-sizing: border-box;padding-bottom: 0.4em;background-color: white;}#sk-container-id-1 div.sk-label label {font-family: monospace;font-weight: bold;display: inline-block;line-height: 1.2em;}#sk-container-id-1 div.sk-label-container {text-align: center;}#sk-container-id-1 div.sk-container {/* jupyter's `normalize.less` sets `[hidden] { display: none; }` but bootstrap.min.css set `[hidden] { display: none !important; }` so we also need the `!important` here to be able to override the default hidden behavior on the sphinx rendered scikit-learn.org. See: https://github.com/scikit-learn/scikit-learn/issues/21755 */display: inline-block !important;position: relative;}#sk-container-id-1 div.sk-text-repr-fallback {display: none;}</style><div id=\"sk-container-id-1\" class=\"sk-top-container\"><div class=\"sk-text-repr-fallback\"><pre>RandomizedSearchCV(estimator=RandomForestRegressor(),\n",
       "                   param_distributions={&#x27;ccp_alpha&#x27;: (0.0, 0.1, 0.2),\n",
       "                                        &#x27;criterion&#x27;: (&#x27;squared_error&#x27;,\n",
       "                                                      &#x27;absolute_error&#x27;,\n",
       "                                                      &#x27;poisson&#x27;),\n",
       "                                        &#x27;max_depth&#x27;: (2, 3, None),\n",
       "                                        &#x27;max_features&#x27;: (&#x27;sqrt&#x27;, &#x27;log2&#x27;, None),\n",
       "                                        &#x27;max_leaf_nodes&#x27;: (5, 10, None),\n",
       "                                        &#x27;max_samples&#x27;: (10, 20, None),\n",
       "                                        &#x27;min_impurity_decrease&#x27;: (0.0, 0.1,\n",
       "                                                                  0.2),\n",
       "                                        &#x27;min_samples_leaf&#x27;: (1, 2, 3),\n",
       "                                        &#x27;min_samples_split&#x27;: (2, 3, 4),\n",
       "                                        &#x27;min_weight_fraction_leaf&#x27;: (0.0, 0.1,\n",
       "                                                                     0.2),\n",
       "                                        &#x27;n_estimators&#x27;: (80, 100, 120),\n",
       "                                        &#x27;n_jobs&#x27;: [-1],\n",
       "                                        &#x27;random_state&#x27;: [2022]},\n",
       "                   random_state=2022, scoring=&#x27;neg_root_mean_squared_error&#x27;)</pre><b>In a Jupyter environment, please rerun this cell to show the HTML representation or trust the notebook. <br />On GitHub, the HTML representation is unable to render, please try loading this page with nbviewer.org.</b></div><div class=\"sk-container\" hidden><div class=\"sk-item sk-dashed-wrapped\"><div class=\"sk-label-container\"><div class=\"sk-label sk-toggleable\"><input class=\"sk-toggleable__control sk-hidden--visually\" id=\"sk-estimator-id-1\" type=\"checkbox\" ><label for=\"sk-estimator-id-1\" class=\"sk-toggleable__label sk-toggleable__label-arrow\">RandomizedSearchCV</label><div class=\"sk-toggleable__content\"><pre>RandomizedSearchCV(estimator=RandomForestRegressor(),\n",
       "                   param_distributions={&#x27;ccp_alpha&#x27;: (0.0, 0.1, 0.2),\n",
       "                                        &#x27;criterion&#x27;: (&#x27;squared_error&#x27;,\n",
       "                                                      &#x27;absolute_error&#x27;,\n",
       "                                                      &#x27;poisson&#x27;),\n",
       "                                        &#x27;max_depth&#x27;: (2, 3, None),\n",
       "                                        &#x27;max_features&#x27;: (&#x27;sqrt&#x27;, &#x27;log2&#x27;, None),\n",
       "                                        &#x27;max_leaf_nodes&#x27;: (5, 10, None),\n",
       "                                        &#x27;max_samples&#x27;: (10, 20, None),\n",
       "                                        &#x27;min_impurity_decrease&#x27;: (0.0, 0.1,\n",
       "                                                                  0.2),\n",
       "                                        &#x27;min_samples_leaf&#x27;: (1, 2, 3),\n",
       "                                        &#x27;min_samples_split&#x27;: (2, 3, 4),\n",
       "                                        &#x27;min_weight_fraction_leaf&#x27;: (0.0, 0.1,\n",
       "                                                                     0.2),\n",
       "                                        &#x27;n_estimators&#x27;: (80, 100, 120),\n",
       "                                        &#x27;n_jobs&#x27;: [-1],\n",
       "                                        &#x27;random_state&#x27;: [2022]},\n",
       "                   random_state=2022, scoring=&#x27;neg_root_mean_squared_error&#x27;)</pre></div></div></div><div class=\"sk-parallel\"><div class=\"sk-parallel-item\"><div class=\"sk-item\"><div class=\"sk-label-container\"><div class=\"sk-label sk-toggleable\"><input class=\"sk-toggleable__control sk-hidden--visually\" id=\"sk-estimator-id-2\" type=\"checkbox\" ><label for=\"sk-estimator-id-2\" class=\"sk-toggleable__label sk-toggleable__label-arrow\">estimator: RandomForestRegressor</label><div class=\"sk-toggleable__content\"><pre>RandomForestRegressor()</pre></div></div></div><div class=\"sk-serial\"><div class=\"sk-item\"><div class=\"sk-estimator sk-toggleable\"><input class=\"sk-toggleable__control sk-hidden--visually\" id=\"sk-estimator-id-3\" type=\"checkbox\" ><label for=\"sk-estimator-id-3\" class=\"sk-toggleable__label sk-toggleable__label-arrow\">RandomForestRegressor</label><div class=\"sk-toggleable__content\"><pre>RandomForestRegressor()</pre></div></div></div></div></div></div></div></div></div></div>"
      ],
      "text/plain": [
       "RandomizedSearchCV(estimator=RandomForestRegressor(),\n",
       "                   param_distributions={'ccp_alpha': (0.0, 0.1, 0.2),\n",
       "                                        'criterion': ('squared_error',\n",
       "                                                      'absolute_error',\n",
       "                                                      'poisson'),\n",
       "                                        'max_depth': (2, 3, None),\n",
       "                                        'max_features': ('sqrt', 'log2', None),\n",
       "                                        'max_leaf_nodes': (5, 10, None),\n",
       "                                        'max_samples': (10, 20, None),\n",
       "                                        'min_impurity_decrease': (0.0, 0.1,\n",
       "                                                                  0.2),\n",
       "                                        'min_samples_leaf': (1, 2, 3),\n",
       "                                        'min_samples_split': (2, 3, 4),\n",
       "                                        'min_weight_fraction_leaf': (0.0, 0.1,\n",
       "                                                                     0.2),\n",
       "                                        'n_estimators': (80, 100, 120),\n",
       "                                        'n_jobs': [-1],\n",
       "                                        'random_state': [2022]},\n",
       "                   random_state=2022, scoring='neg_root_mean_squared_error')"
      ]
     },
     "execution_count": 7,
     "metadata": {},
     "output_type": "execute_result"
    }
   ],
   "source": [
    "model.fit(train_X, train_y)"
   ]
  },
  {
   "cell_type": "code",
   "execution_count": 8,
   "metadata": {},
   "outputs": [
    {
     "data": {
      "text/plain": [
       "{'random_state': 2022,\n",
       " 'n_jobs': -1,\n",
       " 'n_estimators': 100,\n",
       " 'min_weight_fraction_leaf': 0.0,\n",
       " 'min_samples_split': 3,\n",
       " 'min_samples_leaf': 1,\n",
       " 'min_impurity_decrease': 0.0,\n",
       " 'max_samples': None,\n",
       " 'max_leaf_nodes': None,\n",
       " 'max_features': 'log2',\n",
       " 'max_depth': None,\n",
       " 'criterion': 'poisson',\n",
       " 'ccp_alpha': 0.0}"
      ]
     },
     "execution_count": 8,
     "metadata": {},
     "output_type": "execute_result"
    }
   ],
   "source": [
    "model.best_params_"
   ]
  },
  {
   "cell_type": "code",
   "execution_count": 9,
   "metadata": {},
   "outputs": [],
   "source": [
    "preds_test = model.predict(test_X)\n",
    "preds_train = model.predict(train_X)"
   ]
  },
  {
   "cell_type": "code",
   "execution_count": 10,
   "metadata": {},
   "outputs": [
    {
     "data": {
      "text/plain": [
       "[13963.494, 118.167, 68.261, 294729.19, 542.89, 542.89]"
      ]
     },
     "execution_count": 10,
     "metadata": {},
     "output_type": "execute_result"
    }
   ],
   "source": [
    "evaluate_model(test=test_y, predictions_test=preds_test, train=train_y, predictions_train=preds_train)"
   ]
  },
  {
   "cell_type": "code",
   "execution_count": null,
   "metadata": {},
   "outputs": [],
   "source": [
    "pickle.dump(model, open(r\"..\\data\\rf_all_features_1_week.pkl\", \"wb\" ))"
   ]
  },
  {
   "cell_type": "markdown",
   "metadata": {},
   "source": [
    "# Voting Regressor - pre-COVID"
   ]
  },
  {
   "cell_type": "code",
   "execution_count": null,
   "metadata": {},
   "outputs": [
    {
     "name": "stdout",
     "output_type": "stream",
     "text": [
      "Shape of train_X: (156, 48)\n",
      "Shape of train_y: (156,)\n",
      "Shape of test_X: (1, 48)\n",
      "Shape of test_y: (1, 1)\n"
     ]
    }
   ],
   "source": [
    "from sklearn.linear_model import LinearRegression\n",
    "from sklearn.ensemble import RandomForestRegressor\n",
    "from sklearn.ensemble import GradientBoostingRegressor\n",
    "from sklearn.ensemble import VotingRegressor\n",
    "from sklearn.neighbors import KNeighborsRegressor\n",
    "from sklearn import svm\n",
    "\n",
    "# split into train and test\n",
    "X = df_pre_COVID_all_features.loc[:, df_pre_COVID_all_features.columns != 'Total Cases']\n",
    "y = df_pre_COVID_all_features['Total Cases']\n",
    "\n",
    "train_X = X.iloc[:-1].to_numpy()\n",
    "train_y = y.iloc[:-1].to_numpy()\n",
    "test_X = X.iloc[-1].to_numpy().reshape(1,-1)\n",
    "test_y = np.asarray(y.iloc[-1]).reshape(1,-1)\n",
    "\n",
    "# train_X = X.iloc[:-1].to_numpy()\n",
    "# train_y = y.iloc[:-1].to_numpy().reshape(-1,1)\n",
    "# test_X = X.iloc[-1:].to_numpy()\n",
    "# test_y = np.asarray(y.iloc[-1:]).reshape(-1,1)\n",
    "\n",
    "print(f'Shape of train_X: {train_X.shape}')\n",
    "print(f'Shape of train_y: {train_y.shape}')\n",
    "print(f'Shape of test_X: {test_X.shape}')\n",
    "print(f'Shape of test_y: {test_y.shape}')"
   ]
  },
  {
   "cell_type": "code",
   "execution_count": null,
   "metadata": {},
   "outputs": [],
   "source": [
    "# scale data\n",
    "from sklearn.preprocessing import StandardScaler\n",
    "scaler = StandardScaler()\n",
    "train_X = scaler.fit_transform(train_X)\n",
    "test_X = scaler.transform(test_X)"
   ]
  },
  {
   "cell_type": "code",
   "execution_count": null,
   "metadata": {},
   "outputs": [
    {
     "data": {
      "text/plain": [
       "array([4062.64029096])"
      ]
     },
     "metadata": {},
     "output_type": "display_data"
    }
   ],
   "source": [
    "r1 = RandomForestRegressor(n_estimators=240, criterion='squared_error', max_depth=2, min_samples_split=5, min_samples_leaf=3, min_weight_fraction_leaf=0.08, max_features=None, max_leaf_nodes=4, min_impurity_decrease=0.03, bootstrap=True, oob_score=False, n_jobs=None, random_state=2022, verbose=0, warm_start=False, ccp_alpha=0.05, max_samples=None)\n",
    "r2 = GradientBoostingRegressor(loss='huber', learning_rate=0.1, n_estimators=30, subsample=1.0, criterion='squared_error', min_samples_split=5, min_samples_leaf=3, min_weight_fraction_leaf=0.07, max_depth=2, min_impurity_decrease=0.085, init=None, random_state=2022, max_features=None, alpha=0.55, verbose=0, max_leaf_nodes=4, warm_start=False, validation_fraction=0.1, n_iter_no_change=None, tol=0.0001, ccp_alpha=0.085)\n",
    "\n",
    "vr = VotingRegressor([('rf', r1), ('xgb', r2)])\n",
    "vr.fit(train_X, train_y)\n",
    "vr.predict(test_X)"
   ]
  },
  {
   "cell_type": "code",
   "execution_count": null,
   "metadata": {},
   "outputs": [
    {
     "data": {
      "text/plain": [
       "array([[3576.]])"
      ]
     },
     "metadata": {},
     "output_type": "display_data"
    }
   ],
   "source": [
    "test_y"
   ]
  },
  {
   "cell_type": "code",
   "execution_count": null,
   "metadata": {},
   "outputs": [],
   "source": [
    "preds_test = vr.predict(test_X)\n",
    "preds_train = vr.predict(train_X)"
   ]
  },
  {
   "cell_type": "code",
   "execution_count": null,
   "metadata": {},
   "outputs": [
    {
     "data": {
      "text/plain": [
       "[138821.988, 372.588, 227.057, 236818.773, 486.64, 486.64]"
      ]
     },
     "metadata": {},
     "output_type": "display_data"
    }
   ],
   "source": [
    "evaluate_model(test=test_y, predictions_test=preds_test, train=train_y, predictions_train=preds_train)"
   ]
  }
 ],
 "metadata": {
  "kernelspec": {
   "display_name": "Python 3.9.13 64-bit",
   "language": "python",
   "name": "python3"
  },
  "language_info": {
   "codemirror_mode": {
    "name": "ipython",
    "version": 3
   },
   "file_extension": ".py",
   "mimetype": "text/x-python",
   "name": "python",
   "nbconvert_exporter": "python",
   "pygments_lexer": "ipython3",
   "version": "3.9.13"
  },
  "orig_nbformat": 4,
  "vscode": {
   "interpreter": {
    "hash": "11938c6bc6919ae2720b4d5011047913343b08a43b18698fd82dedb0d4417594"
   }
  }
 },
 "nbformat": 4,
 "nbformat_minor": 2
}
